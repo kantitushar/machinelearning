{
  "nbformat": 4,
  "nbformat_minor": 0,
  "metadata": {
    "colab": {
      "name": "Random_Forest_SL.ipynb",
      "provenance": [],
      "collapsed_sections": []
    },
    "kernelspec": {
      "display_name": "Python 3",
      "language": "python",
      "name": "python3"
    },
    "language_info": {
      "codemirror_mode": {
        "name": "ipython",
        "version": 3
      },
      "file_extension": ".py",
      "mimetype": "text/x-python",
      "name": "python",
      "nbconvert_exporter": "python",
      "pygments_lexer": "ipython3",
      "version": "3.7.6"
    }
  },
  "cells": [
    {
      "cell_type": "markdown",
      "metadata": {
        "id": "Qd1i5azYtVH8"
      },
      "source": [
        "Random Forest Algorithm with Python and Scikit-Learn\n",
        "-------------------------------------------------------------------------------"
      ]
    },
    {
      "cell_type": "markdown",
      "metadata": {
        "id": "Qw_DIQ-ctVIA"
      },
      "source": [
        "Random forest is a type of supervised machine learning algorithm based on **ensemble learning**. Ensemble learning is a type of learning where you join different types of algorithms or same algorithm multiple times to form a more powerful prediction model. The random forest algorithm combines multiple algorithm of the same type i.e. multiple decision trees, resulting in a forest of trees, hence the name \"Random Forest\". The random forest algorithm can be used for both regression and classification tasks."
      ]
    },
    {
      "cell_type": "markdown",
      "metadata": {
        "id": "7SRYfxLLtVIC"
      },
      "source": [
        "How the Random Forest Algorithm Works\n",
        "------------------------------------------------------------\n",
        "\n",
        "The following are the basic steps involved in performing the random forest algorithm:\n",
        "\n",
        "1> Pick N random records from the dataset, **call it Bootstraped Dataset**. <br>\n",
        "2> Build a decision tree based on these N records. <br>\n",
        "3> Choose the number of trees you want in your algorithm \n",
        "   and repeat steps 1 and 2. <br>\n",
        "4> In case of a **regression problem**, <font color='green'> for a new record, each tree in the forest predicts a value for Y (output). The final value can be calculated by taking the average of all the values predicted by all the trees in forest.</font> <br> \n",
        "Or, in case of a **classification problem**, <font color='green'> each tree in the forest predicts the category to which the new record belongs. Finally, the new record is assigned to the category that wins the majority vote. </font>"
      ]
    },
    {
      "cell_type": "markdown",
      "metadata": {
        "id": "7nAP3U9C4pXs"
      },
      "source": [
        "<hr>\n",
        "\n",
        "Q. <font color='red'><b> What does Bagging mean ?</b></font>\n",
        "\n",
        "Q. <font color='red'><b> Is their something like \"Out of Bag\" Error ?</b></font>\n",
        "<hr>"
      ]
    },
    {
      "cell_type": "markdown",
      "metadata": {
        "id": "BiNI_QYWtVIE"
      },
      "source": [
        "Advantages of using Random Forest\n",
        "-----------------------------------------------------\n",
        "As with any algorithm, there are advantages and disadvantages to using it. In the next two sections we'll take a look at the pros and cons of using random forest for classification and regression.\n",
        "\n",
        "1> The random forest algorithm is not biased, since, there are multiple trees and each tree is trained on a subset of data. Basically, the random forest algorithm relies on the power of \"the crowd\"; therefore the overall biasedness of the algorithm is reduced.\n",
        "\n",
        "2> This algorithm is very stable. Even if a new data point is introduced in the dataset the overall algorithm is not affected much since new data may impact one tree, but it is very hard for it to impact all the trees.\n",
        "\n",
        "3> The random forest algorithm works well when you have both categorical and numerical features. \n",
        "\n",
        "4> The random forest algorithm also works well when data has missing values or it has not been scaled well."
      ]
    },
    {
      "cell_type": "markdown",
      "metadata": {
        "id": "A2WS-FcZtVIH"
      },
      "source": [
        "Disadvantages of using Random Forest\n",
        "---------------------------------------------------------\n",
        "1> A major disadvantage of random forests lies in their complexity. They required much more computational resources, owing to the large number of decision trees joined together.\n",
        "\n",
        "2> Due to their complexity, they require much more time to train; than other comparable algorithms."
      ]
    },
    {
      "cell_type": "markdown",
      "metadata": {
        "id": "p6OrYINPtVIJ"
      },
      "source": [
        "1> Using Random Forest for Regression\n",
        "----------------------------------------------------------\n",
        "\n",
        "<font color='red'><u>Problem Definition</u> : The problem here is to <b>predict the gas consumption</b> (in millions of gallons) in 48 of the US states based on petrol tax (in cents), per capita income (dollars), paved highways (in miles) and the proportion of population with the driving license. </font>"
      ]
    },
    {
      "cell_type": "code",
      "metadata": {
        "colab": {
          "resources": {
            "http://localhost:8080/nbextensions/google.colab/files.js": {
              "data": "Ly8gQ29weXJpZ2h0IDIwMTcgR29vZ2xlIExMQwovLwovLyBMaWNlbnNlZCB1bmRlciB0aGUgQXBhY2hlIExpY2Vuc2UsIFZlcnNpb24gMi4wICh0aGUgIkxpY2Vuc2UiKTsKLy8geW91IG1heSBub3QgdXNlIHRoaXMgZmlsZSBleGNlcHQgaW4gY29tcGxpYW5jZSB3aXRoIHRoZSBMaWNlbnNlLgovLyBZb3UgbWF5IG9idGFpbiBhIGNvcHkgb2YgdGhlIExpY2Vuc2UgYXQKLy8KLy8gICAgICBodHRwOi8vd3d3LmFwYWNoZS5vcmcvbGljZW5zZXMvTElDRU5TRS0yLjAKLy8KLy8gVW5sZXNzIHJlcXVpcmVkIGJ5IGFwcGxpY2FibGUgbGF3IG9yIGFncmVlZCB0byBpbiB3cml0aW5nLCBzb2Z0d2FyZQovLyBkaXN0cmlidXRlZCB1bmRlciB0aGUgTGljZW5zZSBpcyBkaXN0cmlidXRlZCBvbiBhbiAiQVMgSVMiIEJBU0lTLAovLyBXSVRIT1VUIFdBUlJBTlRJRVMgT1IgQ09ORElUSU9OUyBPRiBBTlkgS0lORCwgZWl0aGVyIGV4cHJlc3Mgb3IgaW1wbGllZC4KLy8gU2VlIHRoZSBMaWNlbnNlIGZvciB0aGUgc3BlY2lmaWMgbGFuZ3VhZ2UgZ292ZXJuaW5nIHBlcm1pc3Npb25zIGFuZAovLyBsaW1pdGF0aW9ucyB1bmRlciB0aGUgTGljZW5zZS4KCi8qKgogKiBAZmlsZW92ZXJ2aWV3IEhlbHBlcnMgZm9yIGdvb2dsZS5jb2xhYiBQeXRob24gbW9kdWxlLgogKi8KKGZ1bmN0aW9uKHNjb3BlKSB7CmZ1bmN0aW9uIHNwYW4odGV4dCwgc3R5bGVBdHRyaWJ1dGVzID0ge30pIHsKICBjb25zdCBlbGVtZW50ID0gZG9jdW1lbnQuY3JlYXRlRWxlbWVudCgnc3BhbicpOwogIGVsZW1lbnQudGV4dENvbnRlbnQgPSB0ZXh0OwogIGZvciAoY29uc3Qga2V5IG9mIE9iamVjdC5rZXlzKHN0eWxlQXR0cmlidXRlcykpIHsKICAgIGVsZW1lbnQuc3R5bGVba2V5XSA9IHN0eWxlQXR0cmlidXRlc1trZXldOwogIH0KICByZXR1cm4gZWxlbWVudDsKfQoKLy8gTWF4IG51bWJlciBvZiBieXRlcyB3aGljaCB3aWxsIGJlIHVwbG9hZGVkIGF0IGEgdGltZS4KY29uc3QgTUFYX1BBWUxPQURfU0laRSA9IDEwMCAqIDEwMjQ7CgpmdW5jdGlvbiBfdXBsb2FkRmlsZXMoaW5wdXRJZCwgb3V0cHV0SWQpIHsKICBjb25zdCBzdGVwcyA9IHVwbG9hZEZpbGVzU3RlcChpbnB1dElkLCBvdXRwdXRJZCk7CiAgY29uc3Qgb3V0cHV0RWxlbWVudCA9IGRvY3VtZW50LmdldEVsZW1lbnRCeUlkKG91dHB1dElkKTsKICAvLyBDYWNoZSBzdGVwcyBvbiB0aGUgb3V0cHV0RWxlbWVudCB0byBtYWtlIGl0IGF2YWlsYWJsZSBmb3IgdGhlIG5leHQgY2FsbAogIC8vIHRvIHVwbG9hZEZpbGVzQ29udGludWUgZnJvbSBQeXRob24uCiAgb3V0cHV0RWxlbWVudC5zdGVwcyA9IHN0ZXBzOwoKICByZXR1cm4gX3VwbG9hZEZpbGVzQ29udGludWUob3V0cHV0SWQpOwp9CgovLyBUaGlzIGlzIHJvdWdobHkgYW4gYXN5bmMgZ2VuZXJhdG9yIChub3Qgc3VwcG9ydGVkIGluIHRoZSBicm93c2VyIHlldCksCi8vIHdoZXJlIHRoZXJlIGFyZSBtdWx0aXBsZSBhc3luY2hyb25vdXMgc3RlcHMgYW5kIHRoZSBQeXRob24gc2lkZSBpcyBnb2luZwovLyB0byBwb2xsIGZvciBjb21wbGV0aW9uIG9mIGVhY2ggc3RlcC4KLy8gVGhpcyB1c2VzIGEgUHJvbWlzZSB0byBibG9jayB0aGUgcHl0aG9uIHNpZGUgb24gY29tcGxldGlvbiBvZiBlYWNoIHN0ZXAsCi8vIHRoZW4gcGFzc2VzIHRoZSByZXN1bHQgb2YgdGhlIHByZXZpb3VzIHN0ZXAgYXMgdGhlIGlucHV0IHRvIHRoZSBuZXh0IHN0ZXAuCmZ1bmN0aW9uIF91cGxvYWRGaWxlc0NvbnRpbnVlKG91dHB1dElkKSB7CiAgY29uc3Qgb3V0cHV0RWxlbWVudCA9IGRvY3VtZW50LmdldEVsZW1lbnRCeUlkKG91dHB1dElkKTsKICBjb25zdCBzdGVwcyA9IG91dHB1dEVsZW1lbnQuc3RlcHM7CgogIGNvbnN0IG5leHQgPSBzdGVwcy5uZXh0KG91dHB1dEVsZW1lbnQubGFzdFByb21pc2VWYWx1ZSk7CiAgcmV0dXJuIFByb21pc2UucmVzb2x2ZShuZXh0LnZhbHVlLnByb21pc2UpLnRoZW4oKHZhbHVlKSA9PiB7CiAgICAvLyBDYWNoZSB0aGUgbGFzdCBwcm9taXNlIHZhbHVlIHRvIG1ha2UgaXQgYXZhaWxhYmxlIHRvIHRoZSBuZXh0CiAgICAvLyBzdGVwIG9mIHRoZSBnZW5lcmF0b3IuCiAgICBvdXRwdXRFbGVtZW50Lmxhc3RQcm9taXNlVmFsdWUgPSB2YWx1ZTsKICAgIHJldHVybiBuZXh0LnZhbHVlLnJlc3BvbnNlOwogIH0pOwp9CgovKioKICogR2VuZXJhdG9yIGZ1bmN0aW9uIHdoaWNoIGlzIGNhbGxlZCBiZXR3ZWVuIGVhY2ggYXN5bmMgc3RlcCBvZiB0aGUgdXBsb2FkCiAqIHByb2Nlc3MuCiAqIEBwYXJhbSB7c3RyaW5nfSBpbnB1dElkIEVsZW1lbnQgSUQgb2YgdGhlIGlucHV0IGZpbGUgcGlja2VyIGVsZW1lbnQuCiAqIEBwYXJhbSB7c3RyaW5nfSBvdXRwdXRJZCBFbGVtZW50IElEIG9mIHRoZSBvdXRwdXQgZGlzcGxheS4KICogQHJldHVybiB7IUl0ZXJhYmxlPCFPYmplY3Q+fSBJdGVyYWJsZSBvZiBuZXh0IHN0ZXBzLgogKi8KZnVuY3Rpb24qIHVwbG9hZEZpbGVzU3RlcChpbnB1dElkLCBvdXRwdXRJZCkgewogIGNvbnN0IGlucHV0RWxlbWVudCA9IGRvY3VtZW50LmdldEVsZW1lbnRCeUlkKGlucHV0SWQpOwogIGlucHV0RWxlbWVudC5kaXNhYmxlZCA9IGZhbHNlOwoKICBjb25zdCBvdXRwdXRFbGVtZW50ID0gZG9jdW1lbnQuZ2V0RWxlbWVudEJ5SWQob3V0cHV0SWQpOwogIG91dHB1dEVsZW1lbnQuaW5uZXJIVE1MID0gJyc7CgogIGNvbnN0IHBpY2tlZFByb21pc2UgPSBuZXcgUHJvbWlzZSgocmVzb2x2ZSkgPT4gewogICAgaW5wdXRFbGVtZW50LmFkZEV2ZW50TGlzdGVuZXIoJ2NoYW5nZScsIChlKSA9PiB7CiAgICAgIHJlc29sdmUoZS50YXJnZXQuZmlsZXMpOwogICAgfSk7CiAgfSk7CgogIGNvbnN0IGNhbmNlbCA9IGRvY3VtZW50LmNyZWF0ZUVsZW1lbnQoJ2J1dHRvbicpOwogIGlucHV0RWxlbWVudC5wYXJlbnRFbGVtZW50LmFwcGVuZENoaWxkKGNhbmNlbCk7CiAgY2FuY2VsLnRleHRDb250ZW50ID0gJ0NhbmNlbCB1cGxvYWQnOwogIGNvbnN0IGNhbmNlbFByb21pc2UgPSBuZXcgUHJvbWlzZSgocmVzb2x2ZSkgPT4gewogICAgY2FuY2VsLm9uY2xpY2sgPSAoKSA9PiB7CiAgICAgIHJlc29sdmUobnVsbCk7CiAgICB9OwogIH0pOwoKICAvLyBXYWl0IGZvciB0aGUgdXNlciB0byBwaWNrIHRoZSBmaWxlcy4KICBjb25zdCBmaWxlcyA9IHlpZWxkIHsKICAgIHByb21pc2U6IFByb21pc2UucmFjZShbcGlja2VkUHJvbWlzZSwgY2FuY2VsUHJvbWlzZV0pLAogICAgcmVzcG9uc2U6IHsKICAgICAgYWN0aW9uOiAnc3RhcnRpbmcnLAogICAgfQogIH07CgogIGNhbmNlbC5yZW1vdmUoKTsKCiAgLy8gRGlzYWJsZSB0aGUgaW5wdXQgZWxlbWVudCBzaW5jZSBmdXJ0aGVyIHBpY2tzIGFyZSBub3QgYWxsb3dlZC4KICBpbnB1dEVsZW1lbnQuZGlzYWJsZWQgPSB0cnVlOwoKICBpZiAoIWZpbGVzKSB7CiAgICByZXR1cm4gewogICAgICByZXNwb25zZTogewogICAgICAgIGFjdGlvbjogJ2NvbXBsZXRlJywKICAgICAgfQogICAgfTsKICB9CgogIGZvciAoY29uc3QgZmlsZSBvZiBmaWxlcykgewogICAgY29uc3QgbGkgPSBkb2N1bWVudC5jcmVhdGVFbGVtZW50KCdsaScpOwogICAgbGkuYXBwZW5kKHNwYW4oZmlsZS5uYW1lLCB7Zm9udFdlaWdodDogJ2JvbGQnfSkpOwogICAgbGkuYXBwZW5kKHNwYW4oCiAgICAgICAgYCgke2ZpbGUudHlwZSB8fCAnbi9hJ30pIC0gJHtmaWxlLnNpemV9IGJ5dGVzLCBgICsKICAgICAgICBgbGFzdCBtb2RpZmllZDogJHsKICAgICAgICAgICAgZmlsZS5sYXN0TW9kaWZpZWREYXRlID8gZmlsZS5sYXN0TW9kaWZpZWREYXRlLnRvTG9jYWxlRGF0ZVN0cmluZygpIDoKICAgICAgICAgICAgICAgICAgICAgICAgICAgICAgICAgICAgJ24vYSd9IC0gYCkpOwogICAgY29uc3QgcGVyY2VudCA9IHNwYW4oJzAlIGRvbmUnKTsKICAgIGxpLmFwcGVuZENoaWxkKHBlcmNlbnQpOwoKICAgIG91dHB1dEVsZW1lbnQuYXBwZW5kQ2hpbGQobGkpOwoKICAgIGNvbnN0IGZpbGVEYXRhUHJvbWlzZSA9IG5ldyBQcm9taXNlKChyZXNvbHZlKSA9PiB7CiAgICAgIGNvbnN0IHJlYWRlciA9IG5ldyBGaWxlUmVhZGVyKCk7CiAgICAgIHJlYWRlci5vbmxvYWQgPSAoZSkgPT4gewogICAgICAgIHJlc29sdmUoZS50YXJnZXQucmVzdWx0KTsKICAgICAgfTsKICAgICAgcmVhZGVyLnJlYWRBc0FycmF5QnVmZmVyKGZpbGUpOwogICAgfSk7CiAgICAvLyBXYWl0IGZvciB0aGUgZGF0YSB0byBiZSByZWFkeS4KICAgIGxldCBmaWxlRGF0YSA9IHlpZWxkIHsKICAgICAgcHJvbWlzZTogZmlsZURhdGFQcm9taXNlLAogICAgICByZXNwb25zZTogewogICAgICAgIGFjdGlvbjogJ2NvbnRpbnVlJywKICAgICAgfQogICAgfTsKCiAgICAvLyBVc2UgYSBjaHVua2VkIHNlbmRpbmcgdG8gYXZvaWQgbWVzc2FnZSBzaXplIGxpbWl0cy4gU2VlIGIvNjIxMTU2NjAuCiAgICBsZXQgcG9zaXRpb24gPSAwOwogICAgZG8gewogICAgICBjb25zdCBsZW5ndGggPSBNYXRoLm1pbihmaWxlRGF0YS5ieXRlTGVuZ3RoIC0gcG9zaXRpb24sIE1BWF9QQVlMT0FEX1NJWkUpOwogICAgICBjb25zdCBjaHVuayA9IG5ldyBVaW50OEFycmF5KGZpbGVEYXRhLCBwb3NpdGlvbiwgbGVuZ3RoKTsKICAgICAgcG9zaXRpb24gKz0gbGVuZ3RoOwoKICAgICAgY29uc3QgYmFzZTY0ID0gYnRvYShTdHJpbmcuZnJvbUNoYXJDb2RlLmFwcGx5KG51bGwsIGNodW5rKSk7CiAgICAgIHlpZWxkIHsKICAgICAgICByZXNwb25zZTogewogICAgICAgICAgYWN0aW9uOiAnYXBwZW5kJywKICAgICAgICAgIGZpbGU6IGZpbGUubmFtZSwKICAgICAgICAgIGRhdGE6IGJhc2U2NCwKICAgICAgICB9LAogICAgICB9OwoKICAgICAgbGV0IHBlcmNlbnREb25lID0gZmlsZURhdGEuYnl0ZUxlbmd0aCA9PT0gMCA/CiAgICAgICAgICAxMDAgOgogICAgICAgICAgTWF0aC5yb3VuZCgocG9zaXRpb24gLyBmaWxlRGF0YS5ieXRlTGVuZ3RoKSAqIDEwMCk7CiAgICAgIHBlcmNlbnQudGV4dENvbnRlbnQgPSBgJHtwZXJjZW50RG9uZX0lIGRvbmVgOwoKICAgIH0gd2hpbGUgKHBvc2l0aW9uIDwgZmlsZURhdGEuYnl0ZUxlbmd0aCk7CiAgfQoKICAvLyBBbGwgZG9uZS4KICB5aWVsZCB7CiAgICByZXNwb25zZTogewogICAgICBhY3Rpb246ICdjb21wbGV0ZScsCiAgICB9CiAgfTsKfQoKc2NvcGUuZ29vZ2xlID0gc2NvcGUuZ29vZ2xlIHx8IHt9OwpzY29wZS5nb29nbGUuY29sYWIgPSBzY29wZS5nb29nbGUuY29sYWIgfHwge307CnNjb3BlLmdvb2dsZS5jb2xhYi5fZmlsZXMgPSB7CiAgX3VwbG9hZEZpbGVzLAogIF91cGxvYWRGaWxlc0NvbnRpbnVlLAp9Owp9KShzZWxmKTsK",
              "ok": true,
              "headers": [
                [
                  "content-type",
                  "application/javascript"
                ]
              ],
              "status": 200,
              "status_text": ""
            }
          },
          "base_uri": "https://localhost:8080/",
          "height": 109
        },
        "id": "_fhuNv-I16vM",
        "outputId": "a4ed0352-831f-4f89-fb73-0eb3b2d6b9f7"
      },
      "source": [
        "# Steps to upload any dataset into your Colab NB :\n",
        "# step 1 : First Download the dataset to your local PC. \n",
        "#          The link for downloading our first dataset for practicing is https://drive.google.com/open?id=1CSP3e6k-04UZZoQd_6NP_wUSts4wNLIc \n",
        "# step 2 : Run the below code and select the (above downloaded) dataset. \n",
        "\n",
        "from google.colab import files\n",
        "files.upload()"
      ],
      "execution_count": 3,
      "outputs": [
        {
          "output_type": "display_data",
          "data": {
            "text/html": [
              "\n",
              "     <input type=\"file\" id=\"files-f1fd96af-dfee-42c1-a72c-f22334687274\" name=\"files[]\" multiple disabled\n",
              "        style=\"border:none\" />\n",
              "     <output id=\"result-f1fd96af-dfee-42c1-a72c-f22334687274\">\n",
              "      Upload widget is only available when the cell has been executed in the\n",
              "      current browser session. Please rerun this cell to enable.\n",
              "      </output>\n",
              "      <script src=\"/nbextensions/google.colab/files.js\"></script> "
            ],
            "text/plain": [
              "<IPython.core.display.HTML object>"
            ]
          },
          "metadata": {}
        },
        {
          "output_type": "stream",
          "name": "stdout",
          "text": [
            "Saving petrol_consumption.csv to petrol_consumption.csv\n"
          ]
        },
        {
          "output_type": "execute_result",
          "data": {
            "text/plain": [
              "{'petrol_consumption.csv': b'Petrol_tax,Average_income,Paved_Highways,Population_Driver_licence(%),Petrol_Consumption\\r\\n9.00,3571,1976,0.5250,541\\r\\n9.00,4092,1250,0.5720,524\\r\\n9.00,3865,1586,0.5800,561\\r\\n7.50,4870,2351,0.5290,414\\r\\n8.00,4399,431,0.5440,410\\r\\n10.00,5342,1333,0.5710,457\\r\\n8.00,5319,11868,0.4510,344\\r\\n8.00,5126,2138,0.5530,467\\r\\n8.00,4447,8577,0.5290,464\\r\\n7.00,4512,8507,0.5520,498\\r\\n8.00,4391,5939,0.5300,580\\r\\n7.50,5126,14186,0.5250,471\\r\\n7.00,4817,6930,0.5740,525\\r\\n7.00,4207,6580,0.5450,508\\r\\n7.00,4332,8159,0.6080,566\\r\\n7.00,4318,10340,0.5860,635\\r\\n7.00,4206,8508,0.5720,603\\r\\n7.00,3718,4725,0.5400,714\\r\\n7.00,4716,5915,0.7240,865\\r\\n8.50,4341,6010,0.6770,640\\r\\n7.00,4593,7834,0.6630,649\\r\\n8.00,4983,602,0.6020,540\\r\\n9.00,4897,2449,0.5110,464\\r\\n9.00,4258,4686,0.5170,547\\r\\n8.50,4574,2619,0.5510,460\\r\\n9.00,3721,4746,0.5440,566\\r\\n8.00,3448,5399,0.5480,577\\r\\n7.50,3846,9061,0.5790,631\\r\\n8.00,4188,5975,0.5630,574\\r\\n9.00,3601,4650,0.4930,534\\r\\n7.00,3640,6905,0.5180,571\\r\\n7.00,3333,6594,0.5130,554\\r\\n8.00,3063,6524,0.5780,577\\r\\n7.50,3357,4121,0.5470,628\\r\\n8.00,3528,3495,0.4870,487\\r\\n6.58,3802,7834,0.6290,644\\r\\n5.00,4045,17782,0.5660,640\\r\\n7.00,3897,6385,0.5860,704\\r\\n8.50,3635,3274,0.6630,648\\r\\n7.00,4345,3905,0.6720,968\\r\\n7.00,4449,4639,0.6260,587\\r\\n7.00,3656,3985,0.5630,699\\r\\n7.00,4300,3635,0.6030,632\\r\\n7.00,3745,2611,0.5080,591\\r\\n6.00,5215,2302,0.6720,782\\r\\n9.00,4476,3942,0.5710,510\\r\\n7.00,4296,4083,0.6230,610\\r\\n7.00,5002,9794,0.5930,524\\r\\n'}"
            ]
          },
          "metadata": {},
          "execution_count": 3
        }
      ]
    },
    {
      "cell_type": "code",
      "metadata": {
        "colab": {
          "base_uri": "https://localhost:8080/",
          "height": 204
        },
        "id": "ya-P_5ostVIL",
        "outputId": "212e791b-41d9-46a6-9144-b50348fe0598"
      },
      "source": [
        "#Import Libraries\n",
        "import pandas as pd  \n",
        "import numpy as np  \n",
        "\n",
        "dataset = pd.read_csv('petrol_consumption.csv')  \n",
        "dataset.head()"
      ],
      "execution_count": 15,
      "outputs": [
        {
          "output_type": "execute_result",
          "data": {
            "text/html": [
              "<div>\n",
              "<style scoped>\n",
              "    .dataframe tbody tr th:only-of-type {\n",
              "        vertical-align: middle;\n",
              "    }\n",
              "\n",
              "    .dataframe tbody tr th {\n",
              "        vertical-align: top;\n",
              "    }\n",
              "\n",
              "    .dataframe thead th {\n",
              "        text-align: right;\n",
              "    }\n",
              "</style>\n",
              "<table border=\"1\" class=\"dataframe\">\n",
              "  <thead>\n",
              "    <tr style=\"text-align: right;\">\n",
              "      <th></th>\n",
              "      <th>Petrol_tax</th>\n",
              "      <th>Average_income</th>\n",
              "      <th>Paved_Highways</th>\n",
              "      <th>Population_Driver_licence(%)</th>\n",
              "      <th>Petrol_Consumption</th>\n",
              "    </tr>\n",
              "  </thead>\n",
              "  <tbody>\n",
              "    <tr>\n",
              "      <th>0</th>\n",
              "      <td>9.0</td>\n",
              "      <td>3571</td>\n",
              "      <td>1976</td>\n",
              "      <td>0.525</td>\n",
              "      <td>541</td>\n",
              "    </tr>\n",
              "    <tr>\n",
              "      <th>1</th>\n",
              "      <td>9.0</td>\n",
              "      <td>4092</td>\n",
              "      <td>1250</td>\n",
              "      <td>0.572</td>\n",
              "      <td>524</td>\n",
              "    </tr>\n",
              "    <tr>\n",
              "      <th>2</th>\n",
              "      <td>9.0</td>\n",
              "      <td>3865</td>\n",
              "      <td>1586</td>\n",
              "      <td>0.580</td>\n",
              "      <td>561</td>\n",
              "    </tr>\n",
              "    <tr>\n",
              "      <th>3</th>\n",
              "      <td>7.5</td>\n",
              "      <td>4870</td>\n",
              "      <td>2351</td>\n",
              "      <td>0.529</td>\n",
              "      <td>414</td>\n",
              "    </tr>\n",
              "    <tr>\n",
              "      <th>4</th>\n",
              "      <td>8.0</td>\n",
              "      <td>4399</td>\n",
              "      <td>431</td>\n",
              "      <td>0.544</td>\n",
              "      <td>410</td>\n",
              "    </tr>\n",
              "  </tbody>\n",
              "</table>\n",
              "</div>"
            ],
            "text/plain": [
              "   Petrol_tax  Average_income  ...  Population_Driver_licence(%)  Petrol_Consumption\n",
              "0         9.0            3571  ...                         0.525                 541\n",
              "1         9.0            4092  ...                         0.572                 524\n",
              "2         9.0            3865  ...                         0.580                 561\n",
              "3         7.5            4870  ...                         0.529                 414\n",
              "4         8.0            4399  ...                         0.544                 410\n",
              "\n",
              "[5 rows x 5 columns]"
            ]
          },
          "metadata": {},
          "execution_count": 15
        }
      ]
    },
    {
      "cell_type": "code",
      "metadata": {
        "id": "jVrcR5UnpGlR",
        "colab": {
          "base_uri": "https://localhost:8080/"
        },
        "outputId": "c8afaab7-0ee4-4c35-b624-2fc4a2c6f5df"
      },
      "source": [
        "## mean of target var. so that I can compare later with RMSE\n",
        "dataset['Petrol_Consumption'].mean()\n",
        "\n",
        "## RMSE < 10% of mean of target var"
      ],
      "execution_count": 16,
      "outputs": [
        {
          "output_type": "execute_result",
          "data": {
            "text/plain": [
              "576.7708333333334"
            ]
          },
          "metadata": {},
          "execution_count": 16
        }
      ]
    },
    {
      "cell_type": "code",
      "metadata": {
        "colab": {
          "base_uri": "https://localhost:8080/"
        },
        "id": "twQbsEWytVIT",
        "outputId": "8c1e99ec-81a4-4b01-e3fd-f734d7d1b08a"
      },
      "source": [
        "# Preparing the Data\n",
        "# divide the data into attributes and labels\n",
        "X = dataset.drop('Petrol_Consumption', axis=1)  \n",
        "y = dataset['Petrol_Consumption']  \n",
        "\n",
        "# dividing data into training and testing set\n",
        "from sklearn.model_selection import train_test_split  \n",
        "X_train, X_test, y_train, y_test = train_test_split(X, y, \n",
        "                                                    test_size=0.2, \n",
        "                                                    random_state=0)  \n",
        "\n",
        "# Training and Making Predictions\n",
        "from sklearn.ensemble import RandomForestRegressor\n",
        "regressor = RandomForestRegressor(n_estimators=20, random_state=0)  \n",
        "regressor.fit(X_train, y_train)  \n",
        "y_pred = regressor.predict(X_test)  \n",
        "\n",
        "# The RandomForestRegressor class of the sklearn.ensemble library\n",
        "# is used to solve regression problems via random forest. \n",
        "# The most important parameter of the RandomForestRegressor class \n",
        "# is the n_estimators parameter. \n",
        "# This parameter defines the number of trees in the random forest.\n",
        "\n",
        "# Evaluating the Algorithm\n",
        "from sklearn import metrics\n",
        "print('Mean Absolute Error:', metrics.mean_absolute_error(y_test, y_pred))  \n",
        "print('Mean Squared Error:', metrics.mean_squared_error(y_test, y_pred))  \n",
        "print('Root Mean Squared Error:', np.sqrt(metrics.mean_squared_error(y_test, y_pred)))"
      ],
      "execution_count": 17,
      "outputs": [
        {
          "output_type": "stream",
          "name": "stdout",
          "text": [
            "Mean Absolute Error: 51.76500000000001\n",
            "Mean Squared Error: 4216.166749999999\n",
            "Root Mean Squared Error: 64.93201637097064\n"
          ]
        }
      ]
    },
    {
      "cell_type": "code",
      "metadata": {
        "id": "N-LG2E5MusEi"
      },
      "source": [
        ""
      ],
      "execution_count": null,
      "outputs": []
    },
    {
      "cell_type": "markdown",
      "metadata": {
        "id": "O6KZTpw3tVIa"
      },
      "source": [
        "With 20 trees, the root mean squared error is ___ which is (less than/ not less than) 10 percent of the average petrol consumption ( i.e. 10% of 576.77 = 57.67). This indicate, that our ML model is (fine/not fine)."
      ]
    },
    {
      "cell_type": "code",
      "metadata": {
        "colab": {
          "base_uri": "https://localhost:8080/"
        },
        "id": "ZQCxsf4xtVIb",
        "outputId": "d6c2c24f-adea-4184-8a1e-a22edc228a51"
      },
      "source": [
        "# If the number of estimators is changed to 200, the results are as follows:\n",
        "regressor = RandomForestRegressor(n_estimators=200, random_state=0)  \n",
        "regressor.fit(X_train, y_train)  \n",
        "y_pred = regressor.predict(X_test)  \n",
        "\n",
        "# Evaluating the Algorithm\n",
        "from sklearn import metrics\n",
        "\n",
        "print('Mean Absolute Error:', metrics.mean_absolute_error(y_test, y_pred))  \n",
        "print('Mean Squared Error:', metrics.mean_squared_error(y_test, y_pred))  \n",
        "print('Root Mean Squared Error:', np.sqrt(metrics.mean_squared_error(y_test, y_pred)))"
      ],
      "execution_count": 18,
      "outputs": [
        {
          "output_type": "stream",
          "name": "stdout",
          "text": [
            "Mean Absolute Error: 48.124500000000005\n",
            "Mean Squared Error: 3497.802072500001\n",
            "Root Mean Squared Error: 59.142219035981405\n"
          ]
        }
      ]
    },
    {
      "cell_type": "code",
      "metadata": {
        "colab": {
          "base_uri": "https://localhost:8080/"
        },
        "id": "duVxcI4HtVEM",
        "outputId": "5c8e04ea-3f24-4d1b-89ce-f5fdfd0f76cc"
      },
      "source": [
        "# If the number of estimators is changed to 200, the results are as follows:\n",
        "regressor = RandomForestRegressor(n_estimators=220, random_state=0)  \n",
        "regressor.fit(X_train, y_train)  \n",
        "y_pred = regressor.predict(X_test)  \n",
        "\n",
        "# Evaluating the Algorithm\n",
        "from sklearn import metrics\n",
        "\n",
        "print('Mean Absolute Error:', metrics.mean_absolute_error(y_test, y_pred))  \n",
        "print('Mean Squared Error:', metrics.mean_squared_error(y_test, y_pred))  \n",
        "print('Root Mean Squared Error:', np.sqrt(metrics.mean_squared_error(y_test, y_pred)))"
      ],
      "execution_count": 19,
      "outputs": [
        {
          "output_type": "stream",
          "name": "stdout",
          "text": [
            "Mean Absolute Error: 48.297272727272734\n",
            "Mean Squared Error: 3508.4540165289254\n",
            "Root Mean Squared Error: 59.23220421805122\n"
          ]
        }
      ]
    },
    {
      "cell_type": "code",
      "metadata": {
        "colab": {
          "base_uri": "https://localhost:8080/"
        },
        "id": "Wds9WB1QtgvR",
        "outputId": "7dad0b57-a777-4b04-a1a1-eef95558d9d1"
      },
      "source": [
        "# If the number of estimators is changed to 200, the results are as follows:\n",
        "regressor = RandomForestRegressor(n_estimators=250, random_state=0)  \n",
        "regressor.fit(X_train, y_train)  \n",
        "y_pred = regressor.predict(X_test)  \n",
        "\n",
        "# Evaluating the Algorithm\n",
        "from sklearn import metrics\n",
        "\n",
        "print('Mean Absolute Error:', metrics.mean_absolute_error(y_test, y_pred))  \n",
        "print('Mean Squared Error:', metrics.mean_squared_error(y_test, y_pred))  \n",
        "print('Root Mean Squared Error:', np.sqrt(metrics.mean_squared_error(y_test, y_pred)))"
      ],
      "execution_count": 20,
      "outputs": [
        {
          "output_type": "stream",
          "name": "stdout",
          "text": [
            "Mean Absolute Error: 47.988800000000005\n",
            "Mean Squared Error: 3483.7623904000016\n",
            "Root Mean Squared Error: 59.02340544563658\n"
          ]
        }
      ]
    },
    {
      "cell_type": "code",
      "metadata": {
        "colab": {
          "base_uri": "https://localhost:8080/"
        },
        "id": "RtiqIU4IuvkB",
        "outputId": "6a37b674-4a1d-4276-9881-22e09c903559"
      },
      "source": [
        "# If the number of estimators is changed to 200, the results are as follows:\n",
        "regressor = RandomForestRegressor(n_estimators=400, random_state=0)  \n",
        "regressor.fit(X_train, y_train)  \n",
        "y_pred = regressor.predict(X_test)  \n",
        "\n",
        "# Evaluating the Algorithm\n",
        "from sklearn import metrics\n",
        "\n",
        "print('Mean Absolute Error:', metrics.mean_absolute_error(y_test, y_pred))  \n",
        "print('Mean Squared Error:', metrics.mean_squared_error(y_test, y_pred))  \n",
        "print('Root Mean Squared Error:', np.sqrt(metrics.mean_squared_error(y_test, y_pred)))"
      ],
      "execution_count": 23,
      "outputs": [
        {
          "output_type": "stream",
          "name": "stdout",
          "text": [
            "Mean Absolute Error: 47.91199999999999\n",
            "Mean Squared Error: 3481.401009999999\n",
            "Root Mean Squared Error: 59.0033982919628\n"
          ]
        }
      ]
    },
    {
      "cell_type": "markdown",
      "metadata": {
        "id": "UibaiCb2tVIh"
      },
      "source": [
        "<font color='green'><b>Analysis :</b></font> With 200 trees, the root mean squared error is 59.14 which is close to 10 percent of the average petrol consumption (i.e. 10% of 576.77 = 57.67). \n",
        "\n",
        "<font color='red'>The LEARNER's are expected to try <b> n_estimators</b> values of 220 and 250. </font> \n",
        "\n",
        "<b>Do you observe any difference ? </b><br>\n",
        "<font color='green'>If yes then please share on the group chat. This would help your peers in learning better. </font>"
      ]
    },
    {
      "cell_type": "markdown",
      "metadata": {
        "id": "PbOKMHQktVIj"
      },
      "source": [
        "2: Using Random Forest for Classification\n",
        "------------------------------------------------------------\n",
        "\n",
        "<font color='red'><b>Problem Definition</b> : The task here is to predict whether a bank currency note is <u>authentic</u> or <u>not</u> based on four attributes i.e. variance of the image wavelet transformed image, skewness, entropy, and curtosis of the image.</font>"
      ]
    },
    {
      "cell_type": "code",
      "metadata": {
        "id": "nTQvNaPC6g3R",
        "colab": {
          "resources": {
            "http://localhost:8080/nbextensions/google.colab/files.js": {
              "data": "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",
              "ok": true,
              "headers": [
                [
                  "content-type",
                  "application/javascript"
                ]
              ],
              "status": 200,
              "status_text": ""
            }
          },
          "base_uri": "https://localhost:8080/",
          "height": 109
        },
        "outputId": "00ef2e35-c3e0-49b5-9038-eef053316305"
      },
      "source": [
        "# Steps to upload any dataset into your Colab NB :\n",
        "# step 1 : First Download the dataset to your local PC. \n",
        "#          The link for downloading our first dataset for practicing is https://drive.google.com/open?id=19YvsKMdlIZ_bxgJOSg4waIkVTyJ-UYx_\n",
        "# step 2 : Run the below code and select the (above downloaded) dataset. \n",
        "\n",
        "from google.colab import files\n",
        "files.upload()"
      ],
      "execution_count": 13,
      "outputs": [
        {
          "output_type": "display_data",
          "data": {
            "text/html": [
              "\n",
              "     <input type=\"file\" id=\"files-323c09d4-536d-4f75-92d3-6269ed4be040\" name=\"files[]\" multiple disabled\n",
              "        style=\"border:none\" />\n",
              "     <output id=\"result-323c09d4-536d-4f75-92d3-6269ed4be040\">\n",
              "      Upload widget is only available when the cell has been executed in the\n",
              "      current browser session. Please rerun this cell to enable.\n",
              "      </output>\n",
              "      <script src=\"/nbextensions/google.colab/files.js\"></script> "
            ],
            "text/plain": [
              "<IPython.core.display.HTML object>"
            ]
          },
          "metadata": {}
        },
        {
          "output_type": "stream",
          "name": "stdout",
          "text": [
            "Saving bill_authentication.csv to bill_authentication.csv\n"
          ]
        },
        {
          "output_type": "execute_result",
          "data": {
            "text/plain": [
              "{'bill_authentication.csv': b'Variance,Skewness,Curtosis,Entropy,Class\\r\\n3.6216,8.6661,-2.8073,-0.44699,0\\r\\n4.5459,8.1674,-2.4586,-1.4621,0\\r\\n3.866,-2.6383,1.9242,0.10645,0\\r\\n3.4566,9.5228,-4.0112,-3.5944,0\\r\\n0.32924,-4.4552,4.5718,-0.9888,0\\r\\n4.3684,9.6718,-3.9606,-3.1625,0\\r\\n3.5912,3.0129,0.72888,0.56421,0\\r\\n2.0922,-6.81,8.4636,-0.60216,0\\r\\n3.2032,5.7588,-0.75345,-0.61251,0\\r\\n1.5356,9.1772,-2.2718,-0.73535,0\\r\\n1.2247,8.7779,-2.2135,-0.80647,0\\r\\n3.9899,-2.7066,2.3946,0.86291,0\\r\\n1.8993,7.6625,0.15394,-3.1108,0\\r\\n-1.5768,10.843,2.5462,-2.9362,0\\r\\n3.404,8.7261,-2.9915,-0.57242,0\\r\\n4.6765,-3.3895,3.4896,1.4771,0\\r\\n2.6719,3.0646,0.37158,0.58619,0\\r\\n0.80355,2.8473,4.3439,0.6017,0\\r\\n1.4479,-4.8794,8.3428,-2.1086,0\\r\\n5.2423,11.0272,-4.353,-4.1013,0\\r\\n5.7867,7.8902,-2.6196,-0.48708,0\\r\\n0.3292,-4.4552,4.5718,-0.9888,0\\r\\n3.9362,10.1622,-3.8235,-4.0172,0\\r\\n0.93584,8.8855,-1.6831,-1.6599,0\\r\\n4.4338,9.887,-4.6795,-3.7483,0\\r\\n0.7057,-5.4981,8.3368,-2.8715,0\\r\\n1.1432,-3.7413,5.5777,-0.63578,0\\r\\n-0.38214,8.3909,2.1624,-3.7405,0\\r\\n6.5633,9.8187,-4.4113,-3.2258,0\\r\\n4.8906,-3.3584,3.4202,1.0905,0\\r\\n-0.24811,-0.17797,4.9068,0.15429,0\\r\\n1.4884,3.6274,3.308,0.48921,0\\r\\n4.2969,7.617,-2.3874,-0.96164,0\\r\\n-0.96511,9.4111,1.7305,-4.8629,0\\r\\n-1.6162,0.80908,8.1628,0.60817,0\\r\\n2.4391,6.4417,-0.80743,-0.69139,0\\r\\n2.6881,6.0195,-0.46641,-0.69268,0\\r\\n3.6289,0.81322,1.6277,0.77627,0\\r\\n4.5679,3.1929,-2.1055,0.29653,0\\r\\n3.4805,9.7008,-3.7541,-3.4379,0\\r\\n4.1711,8.722,-3.0224,-0.59699,0\\r\\n-0.2062,9.2207,-3.7044,-6.8103,0\\r\\n-0.0068919,9.2931,-0.41243,-1.9638,0\\r\\n0.96441,5.8395,2.3235,0.066365,0\\r\\n2.8561,6.9176,-0.79372,0.48403,0\\r\\n-0.7869,9.5663,-3.7867,-7.5034,0\\r\\n2.0843,6.6258,0.48382,-2.2134,0\\r\\n-0.7869,9.5663,-3.7867,-7.5034,0\\r\\n3.9102,6.065,-2.4534,-0.68234,0\\r\\n1.6349,3.286,2.8753,0.087054,0\\r\\n4.3239,-4.8835,3.4356,-0.5776,0\\r\\n5.262,3.9834,-1.5572,1.0103,0\\r\\n3.1452,5.825,-0.51439,-1.4944,0\\r\\n2.549,6.1499,-1.1605,-1.2371,0\\r\\n4.9264,5.496,-2.4774,-0.50648,0\\r\\n4.8265,0.80287,1.6371,1.1875,0\\r\\n2.5635,6.7769,-0.61979,0.38576,0\\r\\n5.807,5.0097,-2.2384,0.43878,0\\r\\n3.1377,-4.1096,4.5701,0.98963,0\\r\\n-0.78289,11.3603,-0.37644,-7.0495,0\\r\\n2.888,0.44696,4.5907,-0.24398,0\\r\\n0.49665,5.527,1.7785,-0.47156,0\\r\\n4.2586,11.2962,-4.0943,-4.3457,0\\r\\n1.7939,-1.1174,1.5454,-0.26079,0\\r\\n5.4021,3.1039,-1.1536,1.5651,0\\r\\n2.5367,2.599,2.0938,0.20085,0\\r\\n4.6054,-4.0765,2.7587,0.31981,0\\r\\n2.4235,9.5332,-3.0789,-2.7746,0\\r\\n1.0009,7.7846,-0.28219,-2.6608,0\\r\\n0.12326,8.9848,-0.9351,-2.4332,0\\r\\n3.9529,-2.3548,2.3792,0.48274,0\\r\\n4.1373,0.49248,1.093,1.8276,0\\r\\n4.7181,10.0153,-3.9486,-3.8582,0\\r\\n4.1654,-3.4495,3.643,1.0879,0\\r\\n4.4069,10.9072,-4.5775,-4.4271,0\\r\\n2.3066,3.5364,0.57551,0.41938,0\\r\\n3.7935,7.9853,-2.5477,-1.872,0\\r\\n0.049175,6.1437,1.7828,-0.72113,0\\r\\n0.24835,7.6439,0.9885,-0.87371,0\\r\\n1.1317,3.9647,3.3979,0.84351,0\\r\\n2.8033,9.0862,-3.3668,-1.0224,0\\r\\n4.4682,2.2907,0.95766,0.83058,0\\r\\n5.0185,8.5978,-2.9375,-1.281,0\\r\\n1.8664,7.7763,-0.23849,-2.9634,0\\r\\n3.245,6.63,-0.63435,0.86937,0\\r\\n4.0296,2.6756,0.80685,0.71679,0\\r\\n-1.1313,1.9037,7.5339,1.022,0\\r\\n0.87603,6.8141,0.84198,-0.17156,0\\r\\n4.1197,-2.7956,2.0707,0.67412,0\\r\\n3.8027,0.81529,2.1041,1.0245,0\\r\\n1.4806,7.6377,-2.7876,-1.0341,0\\r\\n4.0632,3.584,0.72545,0.39481,0\\r\\n4.3064,8.2068,-2.7824,-1.4336,0\\r\\n2.4486,-6.3175,7.9632,0.20602,0\\r\\n3.2718,1.7837,2.1161,0.61334,0\\r\\n-0.64472,-4.6062,8.347,-2.7099,0\\r\\n2.9543,1.076,0.64577,0.89394,0\\r\\n2.1616,-6.8804,8.1517,-0.081048,0\\r\\n3.82,10.9279,-4.0112,-5.0284,0\\r\\n-2.7419,11.4038,2.5394,-5.5793,0\\r\\n3.3669,-5.1856,3.6935,-1.1427,0\\r\\n4.5597,-2.4211,2.6413,1.6168,0\\r\\n5.1129,-0.49871,0.62863,1.1189,0\\r\\n3.3397,-4.6145,3.9823,-0.23751,0\\r\\n4.2027,0.22761,0.96108,0.97282,0\\r\\n3.5438,1.2395,1.997,2.1547,0\\r\\n2.3136,10.6651,-3.5288,-4.7672,0\\r\\n-1.8584,7.886,-1.6643,-1.8384,0\\r\\n3.106,9.5414,-4.2536,-4.003,0\\r\\n2.9163,10.8306,-3.3437,-4.122,0\\r\\n3.9922,-4.4676,3.7304,-0.1095,0\\r\\n1.518,5.6946,0.094818,-0.026738,0\\r\\n3.2351,9.647,-3.2074,-2.5948,0\\r\\n4.2188,6.8162,-1.2804,0.76076,0\\r\\n1.7819,6.9176,-1.2744,-1.5759,0\\r\\n2.5331,2.9135,-0.822,-0.12243,0\\r\\n3.8969,7.4163,-1.8245,0.14007,0\\r\\n2.108,6.7955,-0.1708,0.4905,0\\r\\n2.8969,0.70768,2.29,1.8663,0\\r\\n0.9297,-3.7971,4.6429,-0.2957,0\\r\\n3.4642,10.6878,-3.4071,-4.109,0\\r\\n4.0713,10.4023,-4.1722,-4.7582,0\\r\\n-1.4572,9.1214,1.7425,-5.1241,0\\r\\n-1.5075,1.9224,7.1466,0.89136,0\\r\\n-0.91718,9.9884,1.1804,-5.2263,0\\r\\n2.994,7.2011,-1.2153,0.3211,0\\r\\n-2.343,12.9516,3.3285,-5.9426,0\\r\\n3.7818,-2.8846,2.2558,-0.15734,0\\r\\n4.6689,1.3098,0.055404,1.909,0\\r\\n3.4663,1.1112,1.7425,1.3388,0\\r\\n3.2697,-4.3414,3.6884,-0.29829,0\\r\\n5.1302,8.6703,-2.8913,-1.5086,0\\r\\n2.0139,6.1416,0.37929,0.56938,0\\r\\n0.4339,5.5395,2.033,-0.40432,0\\r\\n-1.0401,9.3987,0.85998,-5.3336,0\\r\\n4.1605,11.2196,-3.6136,-4.0819,0\\r\\n5.438,9.4669,-4.9417,-3.9202,0\\r\\n5.032,8.2026,-2.6256,-1.0341,0\\r\\n5.2418,10.5388,-4.1174,-4.2797,0\\r\\n-0.2062,9.2207,-3.7044,-6.8103,0\\r\\n2.0911,0.94358,4.5512,1.234,0\\r\\n1.7317,-0.34765,4.1905,-0.99138,0\\r\\n4.1736,3.3336,-1.4244,0.60429,0\\r\\n3.9232,-3.2467,3.4579,0.83705,0\\r\\n3.8481,10.1539,-3.8561,-4.2228,0\\r\\n0.5195,-3.2633,3.0895,-0.9849,0\\r\\n3.8584,0.78425,1.1033,1.7008,0\\r\\n1.7496,-0.1759,5.1827,1.2922,0\\r\\n3.6277,0.9829,0.68861,0.63403,0\\r\\n2.7391,7.4018,0.071684,-2.5302,0\\r\\n4.5447,8.2274,-2.4166,-1.5875,0\\r\\n-1.7599,11.9211,2.6756,-3.3241,0\\r\\n5.0691,0.21313,0.20278,1.2095,0\\r\\n3.4591,11.112,-4.2039,-5.0931,0\\r\\n1.9358,8.1654,-0.023425,-2.2586,0\\r\\n2.486,-0.99533,5.3404,-0.15475,0\\r\\n2.4226,-4.5752,5.947,0.21507,0\\r\\n3.9479,-3.7723,2.883,0.019813,0\\r\\n2.2634,-4.4862,3.6558,-0.61251,0\\r\\n1.3566,4.2358,2.1341,0.3211,0\\r\\n5.0452,3.8964,-1.4304,0.86291,0\\r\\n3.5499,8.6165,-3.2794,-1.2009,0\\r\\n0.17346,7.8695,0.26876,-3.7883,0\\r\\n2.4008,9.3593,-3.3565,-3.3526,0\\r\\n4.8851,1.5995,-0.00029081,1.6401,0\\r\\n4.1927,-3.2674,2.5839,0.21766,0\\r\\n1.1166,8.6496,-0.96252,-1.8112,0\\r\\n1.0235,6.901,-2.0062,-2.7125,0\\r\\n-1.803,11.8818,2.0458,-5.2728,0\\r\\n0.11739,6.2761,-1.5495,-2.4746,0\\r\\n0.5706,-0.0248,1.2421,-0.5621,0\\r\\n4.0552,-2.4583,2.2806,1.0323,0\\r\\n-1.6952,1.0657,8.8294,0.94955,0\\r\\n-1.1193,10.7271,2.0938,-5.6504,0\\r\\n1.8799,2.4707,2.4931,0.37671,0\\r\\n3.583,-3.7971,3.4391,-0.12501,0\\r\\n0.19081,9.1297,-3.725,-5.8224,0\\r\\n3.6582,5.6864,-1.7157,-0.23751,0\\r\\n-0.13144,-1.7775,8.3316,0.35214,0\\r\\n2.3925,9.798,-3.0361,-2.8224,0\\r\\n1.6426,3.0149,0.22849,-0.147,0\\r\\n-0.11783,-1.5789,8.03,-0.028031,0\\r\\n-0.69572,8.6165,1.8419,-4.3289,0\\r\\n2.9421,7.4101,-0.97709,-0.88406,0\\r\\n-1.7559,11.9459,3.0946,-4.8978,0\\r\\n-1.2537,10.8803,1.931,-4.3237,0\\r\\n3.2585,-4.4614,3.8024,-0.15087,0\\r\\n1.8314,6.3672,-0.036278,0.049554,0\\r\\n4.5645,-3.6275,2.8684,0.27714,0\\r\\n2.7365,-5.0325,6.6608,-0.57889,0\\r\\n0.9297,-3.7971,4.6429,-0.2957,0\\r\\n3.9663,10.1684,-4.1131,-4.6056,0\\r\\n1.4578,-0.08485,4.1785,0.59136,0\\r\\n4.8272,3.0687,0.68604,0.80731,0\\r\\n-2.341,12.3784,0.70403,-7.5836,0\\r\\n-1.8584,7.886,-1.6643,-1.8384,0\\r\\n4.1454,7.257,-1.9153,-0.86078,0\\r\\n1.9157,6.0816,0.23705,-2.0116,0\\r\\n4.0215,-2.1914,2.4648,1.1409,0\\r\\n5.8862,5.8747,-2.8167,-0.30087,0\\r\\n-2.0897,10.8265,2.3603,-3.4198,0\\r\\n4.0026,-3.5943,3.5573,0.26809,0\\r\\n-0.78689,9.5663,-3.7867,-7.5034,0\\r\\n4.1757,10.2615,-3.8552,-4.3056,0\\r\\n0.83292,7.5404,0.65005,-0.92544,0\\r\\n4.8077,2.2327,-0.26334,1.5534,0\\r\\n5.3063,5.2684,-2.8904,-0.52716,0\\r\\n2.5605,9.2683,-3.5913,-1.356,0\\r\\n2.1059,7.6046,-0.47755,-1.8461,0\\r\\n2.1721,-0.73874,5.4672,-0.72371,0\\r\\n4.2899,9.1814,-4.6067,-4.3263,0\\r\\n3.5156,10.1891,-4.2759,-4.978,0\\r\\n2.614,8.0081,-3.7258,-1.3069,0\\r\\n0.68087,2.3259,4.9085,0.54998,0\\r\\n4.1962,0.74493,0.83256,0.753,0\\r\\n6.0919,2.9673,-1.3267,1.4551,0\\r\\n1.3234,3.2964,0.2362,-0.11984,0\\r\\n1.3264,1.0326,5.6566,-0.41337,0\\r\\n-0.16735,7.6274,1.2061,-3.6241,0\\r\\n-1.3,10.2678,-2.953,-5.8638,0\\r\\n-2.2261,12.5398,2.9438,-3.5258,0\\r\\n2.4196,6.4665,-0.75688,0.228,0\\r\\n1.0987,0.6394,5.989,-0.58277,0\\r\\n4.6464,10.5326,-4.5852,-4.206,0\\r\\n-0.36038,4.1158,3.1143,-0.37199,0\\r\\n1.3562,3.2136,4.3465,0.78662,0\\r\\n0.5706,-0.0248,1.2421,-0.5621,0\\r\\n-2.6479,10.1374,-1.331,-5.4707,0\\r\\n3.1219,-3.137,1.9259,-0.37458,0\\r\\n5.4944,1.5478,0.041694,1.9284,0\\r\\n-1.3389,1.552,7.0806,1.031,0\\r\\n-2.3361,11.9604,3.0835,-5.4435,0\\r\\n2.2596,-0.033118,4.7355,-0.2776,0\\r\\n0.46901,-0.63321,7.3848,0.36507,0\\r\\n2.7296,2.8701,0.51124,0.5099,0\\r\\n2.0466,2.03,2.1761,-0.083634,0\\r\\n-1.3274,9.498,2.4408,-5.2689,0\\r\\n3.8905,-2.1521,2.6302,1.1047,0\\r\\n3.9994,0.90427,1.1693,1.6892,0\\r\\n2.3952,9.5083,-3.1783,-3.0086,0\\r\\n3.2704,6.9321,-1.0456,0.23447,0\\r\\n-1.3931,1.5664,7.5382,0.78403,0\\r\\n1.6406,3.5488,1.3964,-0.36424,0\\r\\n2.7744,6.8576,-1.0671,0.075416,0\\r\\n2.4287,9.3821,-3.2477,-1.4543,0\\r\\n4.2134,-2.806,2.0116,0.67412,0\\r\\n1.6472,0.48213,4.7449,1.225,0\\r\\n2.0597,-0.99326,5.2119,-0.29312,0\\r\\n0.3798,0.7098,0.7572,-0.4444,0\\r\\n1.0135,8.4551,-1.672,-2.0815,0\\r\\n4.5691,-4.4552,3.1769,0.0042961,0\\r\\n0.57461,10.1105,-1.6917,-4.3922,0\\r\\n0.5734,9.1938,-0.9094,-1.872,0\\r\\n5.2868,3.257,-1.3721,1.1668,0\\r\\n4.0102,10.6568,-4.1388,-5.0646,0\\r\\n4.1425,-3.6792,3.8281,1.6297,0\\r\\n3.0934,-2.9177,2.2232,0.22283,0\\r\\n2.2034,5.9947,0.53009,0.84998,0\\r\\n3.744,0.79459,0.95851,1.0077,0\\r\\n3.0329,2.2948,2.1135,0.35084,0\\r\\n3.7731,7.2073,-1.6814,-0.94742,0\\r\\n3.1557,2.8908,0.59693,0.79825,0\\r\\n1.8114,7.6067,-0.9788,-2.4668,0\\r\\n4.988,7.2052,-3.2846,-1.1608,0\\r\\n2.483,6.6155,-0.79287,-0.90863,0\\r\\n1.594,4.7055,1.3758,0.081882,0\\r\\n-0.016103,9.7484,0.15394,-1.6134,0\\r\\n3.8496,9.7939,-4.1508,-4.4582,0\\r\\n0.9297,-3.7971,4.6429,-0.2957,0\\r\\n4.9342,2.4107,-0.17594,1.6245,0\\r\\n3.8417,10.0215,-4.2699,-4.9159,0\\r\\n5.3915,9.9946,-3.8081,-3.3642,0\\r\\n4.4072,-0.070365,2.0416,1.1319,0\\r\\n2.6946,6.7976,-0.40301,0.44912,0\\r\\n5.2756,0.13863,0.12138,1.1435,0\\r\\n3.4312,6.2637,-1.9513,-0.36165,0\\r\\n4.052,-0.16555,0.45383,0.51248,0\\r\\n1.3638,-4.7759,8.4182,-1.8836,0\\r\\n0.89566,7.7763,-2.7473,-1.9353,0\\r\\n1.9265,7.7557,-0.16823,-3.0771,0\\r\\n0.20977,-0.46146,7.7267,0.90946,0\\r\\n4.068,-2.9363,2.1992,0.50084,0\\r\\n2.877,-4.0599,3.6259,-0.32544,0\\r\\n0.3223,-0.89808,8.0883,0.69222,0\\r\\n-1.3,10.2678,-2.953,-5.8638,0\\r\\n1.7747,-6.4334,8.15,-0.89828,0\\r\\n1.3419,-4.4221,8.09,-1.7349,0\\r\\n0.89606,10.5471,-1.4175,-4.0327,0\\r\\n0.44125,2.9487,4.3225,0.7155,0\\r\\n3.2422,6.2265,0.12224,-1.4466,0\\r\\n2.5678,3.5136,0.61406,-0.40691,0\\r\\n-2.2153,11.9625,0.078538,-7.7853,0\\r\\n4.1349,6.1189,-2.4294,-0.19613,0\\r\\n1.934,-9.2828e-06,4.816,-0.33967,0\\r\\n2.5068,1.1588,3.9249,0.12585,0\\r\\n2.1464,6.0795,-0.5778,-2.2302,0\\r\\n0.051979,7.0521,-2.0541,-3.1508,0\\r\\n1.2706,8.035,-0.19651,-2.1888,0\\r\\n1.143,0.83391,5.4552,-0.56984,0\\r\\n2.2928,9.0386,-3.2417,-1.2991,0\\r\\n0.3292,-4.4552,4.5718,-0.9888,0\\r\\n2.9719,6.8369,-0.2702,0.71291,0\\r\\n1.6849,8.7489,-1.2641,-1.3858,0\\r\\n-1.9177,11.6894,2.5454,-3.2763,0\\r\\n2.3729,10.4726,-3.0087,-3.2013,0\\r\\n1.0284,9.767,-1.3687,-1.7853,0\\r\\n0.27451,9.2186,-3.2863,-4.8448,0\\r\\n1.6032,-4.7863,8.5193,-2.1203,0\\r\\n4.616,10.1788,-4.2185,-4.4245,0\\r\\n4.2478,7.6956,-2.7696,-1.0767,0\\r\\n4.0215,-2.7004,2.4957,0.36636,0\\r\\n5.0297,-4.9704,3.5025,-0.23751,0\\r\\n1.5902,2.2948,3.2403,0.18404,0\\r\\n2.1274,5.1939,-1.7971,-1.1763,0\\r\\n1.1811,8.3847,-2.0567,-0.90345,0\\r\\n0.3292,-4.4552,4.5718,-0.9888,0\\r\\n5.7353,5.2808,-2.2598,0.075416,0\\r\\n2.6718,5.6574,0.72974,-1.4892,0\\r\\n1.5799,-4.7076,7.9186,-1.5487,0\\r\\n2.9499,2.2493,1.3458,-0.037083,0\\r\\n0.5195,-3.2633,3.0895,-0.9849,0\\r\\n3.7352,9.5911,-3.9032,-3.3487,0\\r\\n-1.7344,2.0175,7.7618,0.93532,0\\r\\n3.884,10.0277,-3.9298,-4.0819,0\\r\\n3.5257,1.2829,1.9276,1.7991,0\\r\\n4.4549,2.4976,1.0313,0.96894,0\\r\\n-0.16108,-6.4624,8.3573,-1.5216,0\\r\\n4.2164,9.4607,-4.9288,-5.2366,0\\r\\n3.5152,6.8224,-0.67377,-0.46898,0\\r\\n1.6988,2.9094,2.9044,0.11033,0\\r\\n1.0607,2.4542,2.5188,-0.17027,0\\r\\n2.0421,1.2436,4.2171,0.90429,0\\r\\n3.5594,1.3078,1.291,1.6556,0\\r\\n3.0009,5.8126,-2.2306,-0.66553,0\\r\\n3.9294,1.4112,1.8076,0.89782,0\\r\\n3.4667,-4.0724,4.2882,1.5418,0\\r\\n3.966,3.9213,0.70574,0.33662,0\\r\\n1.0191,2.33,4.9334,0.82929,0\\r\\n0.96414,5.616,2.2138,-0.12501,0\\r\\n1.8205,6.7562,0.0099913,0.39481,0\\r\\n4.9923,7.8653,-2.3515,-0.71984,0\\r\\n-1.1804,11.5093,0.15565,-6.8194,0\\r\\n4.0329,0.23175,0.89082,1.1823,0\\r\\n0.66018,10.3878,-1.4029,-3.9151,0\\r\\n3.5982,7.1307,-1.3035,0.21248,0\\r\\n-1.8584,7.886,-1.6643,-1.8384,0\\r\\n4.0972,0.46972,1.6671,0.91593,0\\r\\n3.3299,0.91254,1.5806,0.39352,0\\r\\n3.1088,3.1122,0.80857,0.4336,0\\r\\n-4.2859,8.5234,3.1392,-0.91639,0\\r\\n-1.2528,10.2036,2.1787,-5.6038,0\\r\\n0.5195,-3.2633,3.0895,-0.9849,0\\r\\n0.3292,-4.4552,4.5718,-0.9888,0\\r\\n0.88872,5.3449,2.045,-0.19355,0\\r\\n3.5458,9.3718,-4.0351,-3.9564,0\\r\\n-0.21661,8.0329,1.8848,-3.8853,0\\r\\n2.7206,9.0821,-3.3111,-0.96811,0\\r\\n3.2051,8.6889,-2.9033,-0.7819,0\\r\\n2.6917,10.8161,-3.3,-4.2888,0\\r\\n-2.3242,11.5176,1.8231,-5.375,0\\r\\n2.7161,-4.2006,4.1914,0.16981,0\\r\\n3.3848,3.2674,0.90967,0.25128,0\\r\\n1.7452,4.8028,2.0878,0.62627,0\\r\\n2.805,0.57732,1.3424,1.2133,0\\r\\n5.7823,5.5788,-2.4089,-0.056479,0\\r\\n3.8999,1.734,1.6011,0.96765,0\\r\\n3.5189,6.332,-1.7791,-0.020273,0\\r\\n3.2294,7.7391,-0.37816,-2.5405,0\\r\\n3.4985,3.1639,0.22677,-0.1651,0\\r\\n2.1948,1.3781,1.1582,0.85774,0\\r\\n2.2526,9.9636,-3.1749,-2.9944,0\\r\\n4.1529,-3.9358,2.8633,-0.017686,0\\r\\n0.74307,11.17,-1.3824,-4.0728,0\\r\\n1.9105,8.871,-2.3386,-0.75604,0\\r\\n-1.5055,0.070346,6.8681,-0.50648,0\\r\\n0.58836,10.7727,-1.3884,-4.3276,0\\r\\n3.2303,7.8384,-3.5348,-1.2151,0\\r\\n-1.9922,11.6542,2.6542,-5.2107,0\\r\\n2.8523,9.0096,-3.761,-3.3371,0\\r\\n4.2772,2.4955,0.48554,0.36119,0\\r\\n1.5099,0.039307,6.2332,-0.30346,0\\r\\n5.4188,10.1457,-4.084,-3.6991,0\\r\\n0.86202,2.6963,4.2908,0.54739,0\\r\\n3.8117,10.1457,-4.0463,-4.5629,0\\r\\n0.54777,10.3754,-1.5435,-4.1633,0\\r\\n2.3718,7.4908,0.015989,-1.7414,0\\r\\n-2.4953,11.1472,1.9353,-3.4638,0\\r\\n4.6361,-2.6611,2.8358,1.1991,0\\r\\n-2.2527,11.5321,2.5899,-3.2737,0\\r\\n3.7982,10.423,-4.1602,-4.9728,0\\r\\n-0.36279,8.2895,-1.9213,-3.3332,0\\r\\n2.1265,6.8783,0.44784,-2.2224,0\\r\\n0.86736,5.5643,1.6765,-0.16769,0\\r\\n3.7831,10.0526,-3.8869,-3.7366,0\\r\\n-2.2623,12.1177,0.28846,-7.7581,0\\r\\n1.2616,4.4303,-1.3335,-1.7517,0\\r\\n2.6799,3.1349,0.34073,0.58489,0\\r\\n-0.39816,5.9781,1.3912,-1.1621,0\\r\\n4.3937,0.35798,2.0416,1.2004,0\\r\\n2.9695,5.6222,0.27561,-1.1556,0\\r\\n1.3049,-0.15521,6.4911,-0.75346,0\\r\\n2.2123,-5.8395,7.7687,-0.85302,0\\r\\n1.9647,6.9383,0.57722,0.66377,0\\r\\n3.0864,-2.5845,2.2309,0.30947,0\\r\\n0.3798,0.7098,0.7572,-0.4444,0\\r\\n0.58982,7.4266,1.2353,-2.9595,0\\r\\n0.14783,7.946,1.0742,-3.3409,0\\r\\n-0.062025,6.1975,1.099,-1.131,0\\r\\n4.223,1.1319,0.72202,0.96118,0\\r\\n0.64295,7.1018,0.3493,-0.41337,0\\r\\n1.941,0.46351,4.6472,1.0879,0\\r\\n4.0047,0.45937,1.3621,1.6181,0\\r\\n3.7767,9.7794,-3.9075,-3.5323,0\\r\\n3.4769,-0.15314,2.53,2.4495,0\\r\\n1.9818,9.2621,-3.521,-1.872,0\\r\\n3.8023,-3.8696,4.044,0.95343,0\\r\\n4.3483,11.1079,-4.0857,-4.2539,0\\r\\n1.1518,1.3864,5.2727,-0.43536,0\\r\\n-1.2576,1.5892,7.0078,0.42455,0\\r\\n1.9572,-5.1153,8.6127,-1.4297,0\\r\\n-2.484,12.1611,2.8204,-3.7418,0\\r\\n-1.1497,1.2954,7.701,0.62627,0\\r\\n4.8368,10.0132,-4.3239,-4.3276,0\\r\\n-0.12196,8.8068,0.94566,-4.2267,0\\r\\n1.9429,6.3961,0.092248,0.58102,0\\r\\n1.742,-4.809,8.2142,-2.0659,0\\r\\n-1.5222,10.8409,2.7827,-4.0974,0\\r\\n-1.3,10.2678,-2.953,-5.8638,0\\r\\n3.4246,-0.14693,0.80342,0.29136,0\\r\\n2.5503,-4.9518,6.3729,-0.41596,0\\r\\n1.5691,6.3465,-0.1828,-2.4099,0\\r\\n1.3087,4.9228,2.0013,0.22024,0\\r\\n5.1776,8.2316,-3.2511,-1.5694,0\\r\\n2.229,9.6325,-3.1123,-2.7164,0\\r\\n5.6272,10.0857,-4.2931,-3.8142,0\\r\\n1.2138,8.7986,-2.1672,-0.74182,0\\r\\n0.3798,0.7098,0.7572,-0.4444,0\\r\\n0.5415,6.0319,1.6825,-0.46122,0\\r\\n4.0524,5.6802,-1.9693,0.026279,0\\r\\n4.7285,2.1065,-0.28305,1.5625,0\\r\\n3.4359,0.66216,2.1041,1.8922,0\\r\\n0.86816,10.2429,-1.4912,-4.0082,0\\r\\n3.359,9.8022,-3.8209,-3.7133,0\\r\\n3.6702,2.9942,0.85141,0.30688,0\\r\\n1.3349,6.1189,0.46497,0.49826,0\\r\\n3.1887,-3.4143,2.7742,-0.2026,0\\r\\n2.4527,2.9653,0.20021,-0.056479,0\\r\\n3.9121,2.9735,0.92852,0.60558,0\\r\\n3.9364,10.5885,-3.725,-4.3133,0\\r\\n3.9414,-3.2902,3.1674,1.0866,0\\r\\n3.6922,-3.9585,4.3439,1.3517,0\\r\\n5.681,7.795,-2.6848,-0.92544,0\\r\\n0.77124,9.0862,-1.2281,-1.4996,0\\r\\n3.5761,9.7753,-3.9795,-3.4638,0\\r\\n1.602,6.1251,0.52924,0.47886,0\\r\\n2.6682,10.216,-3.4414,-4.0069,0\\r\\n2.0007,1.8644,2.6491,0.47369,0\\r\\n0.64215,3.1287,4.2933,0.64696,0\\r\\n4.3848,-3.0729,3.0423,1.2741,0\\r\\n0.77445,9.0552,-2.4089,-1.3884,0\\r\\n0.96574,8.393,-1.361,-1.4659,0\\r\\n3.0948,8.7324,-2.9007,-0.96682,0\\r\\n4.9362,7.6046,-2.3429,-0.85302,0\\r\\n-1.9458,11.2217,1.9079,-3.4405,0\\r\\n5.7403,-0.44284,0.38015,1.3763,0\\r\\n-2.6989,12.1984,0.67661,-8.5482,0\\r\\n1.1472,3.5985,1.9387,-0.43406,0\\r\\n2.9742,8.96,-2.9024,-1.0379,0\\r\\n4.5707,7.2094,-3.2794,-1.4944,0\\r\\n0.1848,6.5079,2.0133,-0.87242,0\\r\\n0.87256,9.2931,-0.7843,-2.1978,0\\r\\n0.39559,6.8866,1.0588,-0.67587,0\\r\\n3.8384,6.1851,-2.0439,-0.033204,0\\r\\n2.8209,7.3108,-0.81857,-1.8784,0\\r\\n2.5817,9.7546,-3.1749,-2.9957,0\\r\\n3.8213,0.23175,2.0133,2.0564,0\\r\\n0.3798,0.7098,0.7572,-0.4444,0\\r\\n3.4893,6.69,-1.2042,-0.38751,0\\r\\n-1.7781,0.8546,7.1303,0.027572,0\\r\\n2.0962,2.4769,1.9379,-0.040962,0\\r\\n0.94732,-0.57113,7.1903,-0.67587,0\\r\\n2.8261,9.4007,-3.3034,-1.0509,0\\r\\n0.0071249,8.3661,0.50781,-3.8155,0\\r\\n0.96788,7.1907,1.2798,-2.4565,0\\r\\n4.7432,2.1086,0.1368,1.6543,0\\r\\n3.6575,7.2797,-2.2692,-1.144,0\\r\\n3.8832,6.4023,-2.432,-0.98363,0\\r\\n3.4776,8.811,-3.1886,-0.92285,0\\r\\n1.1315,7.9212,1.093,-2.8444,0\\r\\n2.8237,2.8597,0.19678,0.57196,0\\r\\n1.9321,6.0423,0.26019,-2.053,0\\r\\n3.0632,-3.3315,5.1305,0.8267,0\\r\\n-1.8411,10.8306,2.769,-3.0901,0\\r\\n2.8084,11.3045,-3.3394,-4.4194,0\\r\\n2.5698,-4.4076,5.9856,0.078002,0\\r\\n-0.12624,10.3216,-3.7121,-6.1185,0\\r\\n3.3756,-4.0951,4.367,1.0698,0\\r\\n-0.048008,-1.6037,8.4756,0.75558,0\\r\\n0.5706,-0.0248,1.2421,-0.5621,0\\r\\n0.88444,6.5906,0.55837,-0.44182,0\\r\\n3.8644,3.7061,0.70403,0.35214,0\\r\\n1.2999,2.5762,2.0107,-0.18967,0\\r\\n2.0051,-6.8638,8.132,-0.2401,0\\r\\n4.9294,0.27727,0.20792,0.33662,0\\r\\n2.8297,6.3485,-0.73546,-0.58665,0\\r\\n2.565,8.633,-2.9941,-1.3082,0\\r\\n2.093,8.3061,0.022844,-3.2724,0\\r\\n4.6014,5.6264,-2.1235,0.19309,0\\r\\n5.0617,-0.35799,0.44698,0.99868,0\\r\\n-0.2951,9.0489,-0.52725,-2.0789,0\\r\\n3.577,2.4004,1.8908,0.73231,0\\r\\n3.9433,2.5017,1.5215,0.903,0\\r\\n2.6648,10.754,-3.3994,-4.1685,0\\r\\n5.9374,6.1664,-2.5905,-0.36553,0\\r\\n2.0153,1.8479,3.1375,0.42843,0\\r\\n5.8782,5.9409,-2.8544,-0.60863,0\\r\\n-2.3983,12.606,2.9464,-5.7888,0\\r\\n1.762,4.3682,2.1384,0.75429,0\\r\\n4.2406,-2.4852,1.608,0.7155,0\\r\\n3.4669,6.87,-1.0568,-0.73147,0\\r\\n3.1896,5.7526,-0.18537,-0.30087,0\\r\\n0.81356,9.1566,-2.1492,-4.1814,0\\r\\n0.52855,0.96427,4.0243,-1.0483,0\\r\\n2.1319,-2.0403,2.5574,-0.061652,0\\r\\n0.33111,4.5731,2.057,-0.18967,0\\r\\n1.2746,8.8172,-1.5323,-1.7957,0\\r\\n2.2091,7.4556,-1.3284,-3.3021,0\\r\\n2.5328,7.528,-0.41929,-2.6478,0\\r\\n3.6244,1.4609,1.3501,1.9284,0\\r\\n-1.3885,12.5026,0.69118,-7.5487,0\\r\\n5.7227,5.8312,-2.4097,-0.24527,0\\r\\n3.3583,10.3567,-3.7301,-3.6991,0\\r\\n2.5227,2.2369,2.7236,0.79438,0\\r\\n0.045304,6.7334,1.0708,-0.9332,0\\r\\n4.8278,7.7598,-2.4491,-1.2216,0\\r\\n1.9476,-4.7738,8.527,-1.8668,0\\r\\n2.7659,0.66216,4.1494,-0.28406,0\\r\\n-0.10648,-0.76771,7.7575,0.64179,0\\r\\n0.72252,-0.053811,5.6703,-1.3509,0\\r\\n4.2475,1.4816,-0.48355,0.95343,0\\r\\n3.9772,0.33521,2.2566,2.1625,0\\r\\n3.6667,4.302,0.55923,0.33791,0\\r\\n2.8232,10.8513,-3.1466,-3.9784,0\\r\\n-1.4217,11.6542,-0.057699,-7.1025,0\\r\\n4.2458,1.1981,0.66633,0.94696,0\\r\\n4.1038,-4.8069,3.3491,-0.49225,0\\r\\n1.4507,8.7903,-2.2324,-0.65259,0\\r\\n3.4647,-3.9172,3.9746,0.36119,0\\r\\n1.8533,6.1458,1.0176,-2.0401,0\\r\\n3.5288,0.71596,1.9507,1.9375,0\\r\\n3.9719,1.0367,0.75973,1.0013,0\\r\\n3.534,9.3614,-3.6316,-1.2461,0\\r\\n3.6894,9.887,-4.0788,-4.3664,0\\r\\n3.0672,-4.4117,3.8238,-0.81682,0\\r\\n2.6463,-4.8152,6.3549,0.003003,0\\r\\n2.2893,3.733,0.6312,-0.39786,0\\r\\n1.5673,7.9274,-0.056842,-2.1694,0\\r\\n4.0405,0.51524,1.0279,1.106,0\\r\\n4.3846,-4.8794,3.3662,-0.029324,0\\r\\n2.0165,-0.25246,5.1707,1.0763,0\\r\\n4.0446,11.1741,-4.3582,-4.7401,0\\r\\n-0.33729,-0.64976,7.6659,0.72326,0\\r\\n-2.4604,12.7302,0.91738,-7.6418,0\\r\\n4.1195,10.9258,-3.8929,-4.1802,0\\r\\n2.0193,0.82356,4.6369,1.4202,0\\r\\n1.5701,7.9129,0.29018,-2.1953,0\\r\\n2.6415,7.586,-0.28562,-1.6677,0\\r\\n5.0214,8.0764,-3.0515,-1.7155,0\\r\\n4.3435,3.3295,0.83598,0.64955,0\\r\\n1.8238,-6.7748,8.3873,-0.54139,0\\r\\n3.9382,0.9291,0.78543,0.6767,0\\r\\n2.2517,-5.1422,4.2916,-1.2487,0\\r\\n5.504,10.3671,-4.413,-4.0211,0\\r\\n2.8521,9.171,-3.6461,-1.2047,0\\r\\n1.1676,9.1566,-2.0867,-0.80647,0\\r\\n2.6104,8.0081,-0.23592,-1.7608,0\\r\\n0.32444,10.067,-1.1982,-4.1284,0\\r\\n3.8962,-4.7904,3.3954,-0.53751,0\\r\\n2.1752,-0.8091,5.1022,-0.67975,0\\r\\n1.1588,8.9331,-2.0807,-1.1272,0\\r\\n4.7072,8.2957,-2.5605,-1.4905,0\\r\\n-1.9667,11.8052,-0.40472,-7.8719,0\\r\\n4.0552,0.40143,1.4563,0.65343,0\\r\\n2.3678,-6.839,8.4207,-0.44829,0\\r\\n0.33565,6.8369,0.69718,-0.55691,0\\r\\n4.3398,-5.3036,3.8803,-0.70432,0\\r\\n1.5456,8.5482,0.4187,-2.1784,0\\r\\n1.4276,8.3847,-2.0995,-1.9677,0\\r\\n-0.27802,8.1881,-3.1338,-2.5276,0\\r\\n0.93611,8.6413,-1.6351,-1.3043,0\\r\\n4.6352,-3.0087,2.6773,1.212,0\\r\\n1.5268,-5.5871,8.6564,-1.722,0\\r\\n0.95626,2.4728,4.4578,0.21636,0\\r\\n-2.7914,1.7734,6.7756,-0.39915,0\\r\\n5.2032,3.5116,-1.2538,1.0129,0\\r\\n3.1836,7.2321,-1.0713,-2.5909,0\\r\\n0.65497,5.1815,1.0673,-0.42113,0\\r\\n5.6084,10.3009,-4.8003,-4.3534,0\\r\\n1.105,7.4432,0.41099,-3.0332,0\\r\\n3.9292,-2.9156,2.2129,0.30817,0\\r\\n1.1558,6.4003,1.5506,0.6961,0\\r\\n2.5581,2.6218,1.8513,0.40257,0\\r\\n2.7831,10.9796,-3.557,-4.4039,0\\r\\n3.7635,2.7811,0.66119,0.34179,0\\r\\n-2.6479,10.1374,-1.331,-5.4707,0\\r\\n1.0652,8.3682,-1.4004,-1.6509,0\\r\\n-1.4275,11.8797,0.41613,-6.9978,0\\r\\n5.7456,10.1808,-4.7857,-4.3366,0\\r\\n5.086,3.2798,-1.2701,1.1189,0\\r\\n3.4092,5.4049,-2.5228,-0.89958,0\\r\\n-0.2361,9.3221,2.1307,-4.3793,0\\r\\n3.8197,8.9951,-4.383,-4.0327,0\\r\\n-1.1391,1.8127,6.9144,0.70127,0\\r\\n4.9249,0.68906,0.77344,1.2095,0\\r\\n2.5089,6.841,-0.029423,0.44912,0\\r\\n-0.2062,9.2207,-3.7044,-6.8103,0\\r\\n3.946,6.8514,-1.5443,-0.5582,0\\r\\n-0.278,8.1881,-3.1338,-2.5276,0\\r\\n1.8592,3.2074,-0.15966,-0.26208,0\\r\\n0.56953,7.6294,1.5754,-3.2233,0\\r\\n3.4626,-4.449,3.5427,0.15429,0\\r\\n3.3951,1.1484,2.1401,2.0862,0\\r\\n5.0429,-0.52974,0.50439,1.106,0\\r\\n3.7758,7.1783,-1.5195,0.40128,0\\r\\n4.6562,7.6398,-2.4243,-1.2384,0\\r\\n4.0948,-2.9674,2.3689,0.75429,0\\r\\n1.8384,6.063,0.54723,0.51248,0\\r\\n2.0153,0.43661,4.5864,-0.3151,0\\r\\n3.5251,0.7201,1.6928,0.64438,0\\r\\n3.757,-5.4236,3.8255,-1.2526,0\\r\\n2.5989,3.5178,0.7623,0.81119,0\\r\\n1.8994,0.97462,4.2265,0.81377,0\\r\\n3.6941,-3.9482,4.2625,1.1577,0\\r\\n4.4295,-2.3507,1.7048,0.90946,0\\r\\n6.8248,5.2187,-2.5425,0.5461,0\\r\\n1.8967,-2.5163,2.8093,-0.79742,0\\r\\n2.1526,-6.1665,8.0831,-0.34355,0\\r\\n3.3004,7.0811,-1.3258,0.22283,0\\r\\n2.7213,7.05,-0.58808,0.41809,0\\r\\n3.8846,-3.0336,2.5334,0.20214,0\\r\\n4.1665,-0.4449,0.23448,0.27843,0\\r\\n0.94225,5.8561,1.8762,-0.32544,0\\r\\n5.1321,-0.031048,0.32616,1.1151,0\\r\\n0.38251,6.8121,1.8128,-0.61251,0\\r\\n3.0333,-2.5928,2.3183,0.303,0\\r\\n2.9233,6.0464,-0.11168,-0.58665,0\\r\\n1.162,10.2926,-1.2821,-4.0392,0\\r\\n3.7791,2.5762,1.3098,0.5655,0\\r\\n0.77765,5.9781,1.1941,-0.3526,0\\r\\n-0.38388,-1.0471,8.0514,0.49567,0\\r\\n0.21084,9.4359,-0.094543,-1.859,0\\r\\n2.9571,-4.5938,5.9068,0.57196,0\\r\\n4.6439,-3.3729,2.5976,0.55257,0\\r\\n3.3577,-4.3062,6.0241,0.18274,0\\r\\n3.5127,2.9073,1.0579,0.40774,0\\r\\n2.6562,10.7044,-3.3085,-4.0767,0\\r\\n-1.3612,10.694,1.7022,-2.9026,0\\r\\n-0.278,8.1881,-3.1338,-2.5276,0\\r\\n1.04,-6.9321,8.2888,-1.2991,0\\r\\n2.1881,2.7356,1.3278,-0.1832,0\\r\\n4.2756,-2.6528,2.1375,0.94437,0\\r\\n-0.11996,6.8741,0.91995,-0.6694,0\\r\\n2.9736,8.7944,-3.6359,-1.3754,0\\r\\n3.7798,-3.3109,2.6491,0.066365,0\\r\\n5.3586,3.7557,-1.7345,1.0789,0\\r\\n1.8373,6.1292,0.84027,0.55257,0\\r\\n1.2262,0.89599,5.7568,-0.11596,0\\r\\n-0.048008,-0.56078,7.7215,0.453,0\\r\\n0.5706,-0.024841,1.2421,-0.56208,0\\r\\n4.3634,0.46351,1.4281,2.0202,0\\r\\n3.482,-4.1634,3.5008,-0.078462,0\\r\\n0.51947,-3.2633,3.0895,-0.98492,0\\r\\n2.3164,-2.628,3.1529,-0.08622,0\\r\\n-1.8348,11.0334,3.1863,-4.8888,0\\r\\n1.3754,8.8793,-1.9136,-0.53751,0\\r\\n-0.16682,5.8974,0.49839,-0.70044,0\\r\\n0.29961,7.1328,-0.31475,-1.1828,0\\r\\n0.25035,9.3262,-3.6873,-6.2543,0\\r\\n2.4673,1.3926,1.7125,0.41421,0\\r\\n0.77805,6.6424,-1.1425,-1.0573,0\\r\\n3.4465,2.9508,1.0271,0.5461,0\\r\\n2.2429,-4.1427,5.2333,-0.40173,0\\r\\n3.7321,-3.884,3.3577,-0.0060486,0\\r\\n4.3365,-3.584,3.6884,0.74912,0\\r\\n-2.0759,10.8223,2.6439,-4.837,0\\r\\n4.0715,7.6398,-2.0824,-1.1698,0\\r\\n0.76163,5.8209,1.1959,-0.64613,0\\r\\n-0.53966,7.3273,0.46583,-1.4543,0\\r\\n2.6213,5.7919,0.065686,-1.5759,0\\r\\n3.0242,-3.3378,2.5865,-0.54785,0\\r\\n5.8519,5.3905,-2.4037,-0.061652,0\\r\\n0.5706,-0.0248,1.2421,-0.5621,0\\r\\n3.9771,11.1513,-3.9272,-4.3444,0\\r\\n1.5478,9.1814,-1.6326,-1.7375,0\\r\\n0.74054,0.36625,2.1992,0.48403,0\\r\\n0.49571,10.2243,-1.097,-4.0159,0\\r\\n1.645,7.8612,-0.87598,-3.5569,0\\r\\n3.6077,6.8576,-1.1622,0.28231,0\\r\\n3.2403,-3.7082,5.2804,0.41291,0\\r\\n3.9166,10.2491,-4.0926,-4.4659,0\\r\\n3.9262,6.0299,-2.0156,-0.065531,0\\r\\n5.591,10.4643,-4.3839,-4.3379,0\\r\\n3.7522,-3.6978,3.9943,1.3051,0\\r\\n1.3114,4.5462,2.2935,0.22541,0\\r\\n3.7022,6.9942,-1.8511,-0.12889,0\\r\\n4.364,-3.1039,2.3757,0.78532,0\\r\\n3.5829,1.4423,1.0219,1.4008,0\\r\\n4.65,-4.8297,3.4553,-0.25174,0\\r\\n5.1731,3.9606,-1.983,0.40774,0\\r\\n3.2692,3.4184,0.20706,-0.066824,0\\r\\n2.4012,1.6223,3.0312,0.71679,0\\r\\n1.7257,-4.4697,8.2219,-1.8073,0\\r\\n4.7965,6.9859,-1.9967,-0.35001,0\\r\\n4.0962,10.1891,-3.9323,-4.1827,0\\r\\n2.5559,3.3605,2.0321,0.26809,0\\r\\n3.4916,8.5709,-3.0326,-0.59182,0\\r\\n0.5195,-3.2633,3.0895,-0.9849,0\\r\\n2.9856,7.2673,-0.409,-2.2431,0\\r\\n4.0932,5.4132,-1.8219,0.23576,0\\r\\n1.7748,-0.76978,5.5854,1.3039,0\\r\\n5.2012,0.32694,0.17965,1.1797,0\\r\\n-0.45062,-1.3678,7.0858,-0.40303,0\\r\\n4.8451,8.1116,-2.9512,-1.4724,0\\r\\n0.74841,7.2756,1.1504,-0.5388,0\\r\\n5.1213,8.5565,-3.3917,-1.5474,0\\r\\n3.6181,-3.7454,2.8273,-0.71208,0\\r\\n0.040498,8.5234,1.4461,-3.9306,0\\r\\n-2.6479,10.1374,-1.331,-5.4707,0\\r\\n0.37984,0.70975,0.75716,-0.44441,0\\r\\n-0.95923,0.091039,6.2204,-1.4828,0\\r\\n2.8672,10.0008,-3.2049,-3.1095,0\\r\\n1.0182,9.109,-0.62064,-1.7129,0\\r\\n-2.7143,11.4535,2.1092,-3.9629,0\\r\\n3.8244,-3.1081,2.4537,0.52024,0\\r\\n2.7961,2.121,1.8385,0.38317,0\\r\\n3.5358,6.7086,-0.81857,0.47886,0\\r\\n-0.7056,8.7241,2.2215,-4.5965,0\\r\\n4.1542,7.2756,-2.4766,-1.2099,0\\r\\n0.92703,9.4318,-0.66263,-1.6728,0\\r\\n1.8216,-6.4748,8.0514,-0.41855,0\\r\\n-2.4473,12.6247,0.73573,-7.6612,0\\r\\n3.5862,-3.0957,2.8093,0.24481,0\\r\\n0.66191,9.6594,-0.28819,-1.6638,0\\r\\n4.7926,1.7071,-0.051701,1.4926,0\\r\\n4.9852,8.3516,-2.5425,-1.2823,0\\r\\n0.75736,3.0294,2.9164,-0.068117,0\\r\\n4.6499,7.6336,-1.9427,-0.37458,0\\r\\n-0.023579,7.1742,0.78457,-0.75734,0\\r\\n0.85574,0.0082678,6.6042,-0.53104,0\\r\\n0.88298,0.66009,6.0096,-0.43277,0\\r\\n4.0422,-4.391,4.7466,1.137,0\\r\\n2.2546,8.0992,-0.24877,-3.2698,0\\r\\n0.38478,6.5989,-0.3336,-0.56466,0\\r\\n3.1541,-5.1711,6.5991,0.57455,0\\r\\n2.3969,0.23589,4.8477,1.437,0\\r\\n4.7114,2.0755,-0.2702,1.2379,0\\r\\n4.0127,10.1477,-3.9366,-4.0728,0\\r\\n2.6606,3.1681,1.9619,0.18662,0\\r\\n3.931,1.8541,-0.023425,1.2314,0\\r\\n0.01727,8.693,1.3989,-3.9668,0\\r\\n3.2414,0.40971,1.4015,1.1952,0\\r\\n2.2504,3.5757,0.35273,0.2836,0\\r\\n-1.3971,3.3191,-1.3927,-1.9948,1\\r\\n0.39012,-0.14279,-0.031994,0.35084,1\\r\\n-1.6677,-7.1535,7.8929,0.96765,1\\r\\n-3.8483,-12.8047,15.6824,-1.281,1\\r\\n-3.5681,-8.213,10.083,0.96765,1\\r\\n-2.2804,-0.30626,1.3347,1.3763,1\\r\\n-1.7582,2.7397,-2.5323,-2.234,1\\r\\n-0.89409,3.1991,-1.8219,-2.9452,1\\r\\n0.3434,0.12415,-0.28733,0.14654,1\\r\\n-0.9854,-6.661,5.8245,0.5461,1\\r\\n-2.4115,-9.1359,9.3444,-0.65259,1\\r\\n-1.5252,-6.2534,5.3524,0.59912,1\\r\\n-0.61442,-0.091058,-0.31818,0.50214,1\\r\\n-0.36506,2.8928,-3.6461,-3.0603,1\\r\\n-5.9034,6.5679,0.67661,-6.6797,1\\r\\n-1.8215,2.7521,-0.72261,-2.353,1\\r\\n-0.77461,-1.8768,2.4023,1.1319,1\\r\\n-1.8187,-9.0366,9.0162,-0.12243,1\\r\\n-3.5801,-12.9309,13.1779,-2.5677,1\\r\\n-1.8219,-6.8824,5.4681,0.057313,1\\r\\n-0.3481,-0.38696,-0.47841,0.62627,1\\r\\n0.47368,3.3605,-4.5064,-4.0431,1\\r\\n-3.4083,4.8587,-0.76888,-4.8668,1\\r\\n-1.6662,-0.30005,1.4238,0.024986,1\\r\\n-2.0962,-7.1059,6.6188,-0.33708,1\\r\\n-2.6685,-10.4519,9.1139,-1.7323,1\\r\\n-0.47465,-4.3496,1.9901,0.7517,1\\r\\n1.0552,1.1857,-2.6411,0.11033,1\\r\\n1.1644,3.8095,-4.9408,-4.0909,1\\r\\n-4.4779,7.3708,-0.31218,-6.7754,1\\r\\n-2.7338,0.45523,2.4391,0.21766,1\\r\\n-2.286,-5.4484,5.8039,0.88231,1\\r\\n-1.6244,-6.3444,4.6575,0.16981,1\\r\\n0.50813,0.47799,-1.9804,0.57714,1\\r\\n1.6408,4.2503,-4.9023,-2.6621,1\\r\\n0.81583,4.84,-5.2613,-6.0823,1\\r\\n-5.4901,9.1048,-0.38758,-5.9763,1\\r\\n-3.2238,2.7935,0.32274,-0.86078,1\\r\\n-2.0631,-1.5147,1.219,0.44524,1\\r\\n-0.91318,-2.0113,-0.19565,0.066365,1\\r\\n0.6005,1.9327,-3.2888,-0.32415,1\\r\\n0.91315,3.3377,-4.0557,-1.6741,1\\r\\n-0.28015,3.0729,-3.3857,-2.9155,1\\r\\n-3.6085,3.3253,-0.51954,-3.5737,1\\r\\n-6.2003,8.6806,0.0091344,-3.703,1\\r\\n-4.2932,3.3419,0.77258,-0.99785,1\\r\\n-3.0265,-0.062088,0.68604,-0.055186,1\\r\\n-1.7015,-0.010356,-0.99337,-0.53104,1\\r\\n-0.64326,2.4748,-2.9452,-1.0276,1\\r\\n-0.86339,1.9348,-2.3729,-1.0897,1\\r\\n-2.0659,1.0512,-0.46298,-1.0974,1\\r\\n-2.1333,1.5685,-0.084261,-1.7453,1\\r\\n-1.2568,-1.4733,2.8718,0.44653,1\\r\\n-3.1128,-6.841,10.7402,-1.0172,1\\r\\n-4.8554,-5.9037,10.9818,-0.82199,1\\r\\n-2.588,3.8654,-0.3336,-1.2797,1\\r\\n0.24394,1.4733,-1.4192,-0.58535,1\\r\\n-1.5322,-5.0966,6.6779,0.17498,1\\r\\n-4.0025,-13.4979,17.6772,-3.3202,1\\r\\n-4.0173,-8.3123,12.4547,-1.4375,1\\r\\n-3.0731,-0.53181,2.3877,0.77627,1\\r\\n-1.979,3.2301,-1.3575,-2.5819,1\\r\\n-0.4294,-0.14693,0.044265,-0.15605,1\\r\\n-2.234,-7.0314,7.4936,0.61334,1\\r\\n-4.211,-12.4736,14.9704,-1.3884,1\\r\\n-3.8073,-8.0971,10.1772,0.65084,1\\r\\n-2.5912,-0.10554,1.2798,1.0414,1\\r\\n-2.2482,3.0915,-2.3969,-2.6711,1\\r\\n-1.4427,3.2922,-1.9702,-3.4392,1\\r\\n-0.39416,-0.020702,-0.066267,-0.44699,1\\r\\n-1.522,-6.6383,5.7491,-0.10691,1\\r\\n-2.8267,-9.0407,9.0694,-0.98233,1\\r\\n-1.7263,-6.0237,5.2419,0.29524,1\\r\\n-0.94255,0.039307,-0.24192,0.31593,1\\r\\n-0.89569,3.0025,-3.6067,-3.4457,1\\r\\n-6.2815,6.6651,0.52581,-7.0107,1\\r\\n-2.3211,3.166,-1.0002,-2.7151,1\\r\\n-1.3414,-2.0776,2.8093,0.60688,1\\r\\n-2.258,-9.3263,9.3727,-0.85949,1\\r\\n-3.8858,-12.8461,12.7957,-3.1353,1\\r\\n-1.8969,-6.7893,5.2761,-0.32544,1\\r\\n-0.52645,-0.24832,-0.45613,0.41938,1\\r\\n0.0096613,3.5612,-4.407,-4.4103,1\\r\\n-3.8826,4.898,-0.92311,-5.0801,1\\r\\n-2.1405,-0.16762,1.321,-0.20906,1\\r\\n-2.4824,-7.3046,6.839,-0.59053,1\\r\\n-2.9098,-10.0712,8.4156,-1.9948,1\\r\\n-0.60975,-4.002,1.8471,0.6017,1\\r\\n0.83625,1.1071,-2.4706,-0.062945,1\\r\\n0.60731,3.9544,-4.772,-4.4853,1\\r\\n-4.8861,7.0542,-0.17252,-6.959,1\\r\\n-3.1366,0.42212,2.6225,-0.064238,1\\r\\n-2.5754,-5.6574,6.103,0.65214,1\\r\\n-1.8782,-6.5865,4.8486,-0.021566,1\\r\\n0.24261,0.57318,-1.9402,0.44007,1\\r\\n1.296,4.2855,-4.8457,-2.9013,1\\r\\n0.25943,5.0097,-5.0394,-6.3862,1\\r\\n-5.873,9.1752,-0.27448,-6.0422,1\\r\\n-3.4605,2.6901,0.16165,-1.0224,1\\r\\n-2.3797,-1.4402,1.1273,0.16076,1\\r\\n-1.2424,-1.7175,-0.52553,-0.21036,1\\r\\n0.20216,1.9182,-3.2828,-0.61768,1\\r\\n0.59823,3.5012,-3.9795,-1.7841,1\\r\\n-0.77995,3.2322,-3.282,-3.1004,1\\r\\n-4.1409,3.4619,-0.47841,-3.8879,1\\r\\n-6.5084,8.7696,0.23191,-3.937,1\\r\\n-4.4996,3.4288,0.56265,-1.1672,1\\r\\n-3.3125,0.10139,0.55323,-0.2957,1\\r\\n-1.9423,0.3766,-1.2898,-0.82458,1\\r\\n-0.75793,2.5349,-3.0464,-1.2629,1\\r\\n-0.95403,1.9824,-2.3163,-1.1957,1\\r\\n-2.2173,1.4671,-0.72689,-1.1724,1\\r\\n-2.799,1.9679,-0.42357,-2.1125,1\\r\\n-1.8629,-0.84841,2.5377,0.097399,1\\r\\n-3.5916,-6.2285,10.2389,-1.1543,1\\r\\n-5.1216,-5.3118,10.3846,-1.0612,1\\r\\n-3.2854,4.0372,-0.45356,-1.8228,1\\r\\n-0.56877,1.4174,-1.4252,-1.1246,1\\r\\n-2.3518,-4.8359,6.6479,-0.060358,1\\r\\n-4.4861,-13.2889,17.3087,-3.2194,1\\r\\n-4.3876,-7.7267,11.9655,-1.4543,1\\r\\n-3.3604,-0.32696,2.1324,0.6017,1\\r\\n-1.0112,2.9984,-1.1664,-1.6185,1\\r\\n0.030219,-1.0512,1.4024,0.77369,1\\r\\n-1.6514,-8.4985,9.1122,1.2379,1\\r\\n-3.2692,-12.7406,15.5573,-0.14182,1\\r\\n-2.5701,-6.8452,8.9999,2.1353,1\\r\\n-1.3066,0.25244,0.7623,1.7758,1\\r\\n-1.6637,3.2881,-2.2701,-2.2224,1\\r\\n-0.55008,2.8659,-1.6488,-2.4319,1\\r\\n0.21431,-0.69529,0.87711,0.29653,1\\r\\n-0.77288,-7.4473,6.492,0.36119,1\\r\\n-1.8391,-9.0883,9.2416,-0.10432,1\\r\\n-0.63298,-5.1277,4.5624,1.4797,1\\r\\n0.0040545,0.62905,-0.64121,0.75817,1\\r\\n-0.28696,3.1784,-3.5767,-3.1896,1\\r\\n-5.2406,6.6258,-0.19908,-6.8607,1\\r\\n-1.4446,2.1438,-0.47241,-1.6677,1\\r\\n-0.65767,-2.8018,3.7115,0.99739,1\\r\\n-1.5449,-10.1498,9.6152,-1.2332,1\\r\\n-2.8957,-12.0205,11.9149,-2.7552,1\\r\\n-0.81479,-5.7381,4.3919,0.3211,1\\r\\n0.50225,0.65388,-1.1793,0.39998,1\\r\\n0.74521,3.6357,-4.4044,-4.1414,1\\r\\n-2.9146,4.0537,-0.45699,-4.0327,1\\r\\n-1.3907,-1.3781,2.3055,-0.021566,1\\r\\n-1.786,-8.1157,7.0858,-1.2112,1\\r\\n-1.7322,-9.2828,7.719,-1.7168,1\\r\\n0.55298,-3.4619,1.7048,1.1008,1\\r\\n2.031,1.852,-3.0121,0.003003,1\\r\\n1.2279,4.0309,-4.6435,-3.9125,1\\r\\n-4.2249,6.2699,0.15822,-5.5457,1\\r\\n-2.5346,-0.77392,3.3602,0.00171,1\\r\\n-1.749,-6.332,6.0987,0.14266,1\\r\\n-0.539,-5.167,3.4399,0.052141,1\\r\\n1.5631,0.89599,-1.9702,0.65472,1\\r\\n2.3917,4.5565,-4.9888,-2.8987,1\\r\\n0.89512,4.7738,-4.8431,-5.5909,1\\r\\n-5.4808,8.1819,0.27818,-5.0323,1\\r\\n-2.8833,1.7713,0.68946,-0.4638,1\\r\\n-1.4174,-2.2535,1.518,0.61981,1\\r\\n0.4283,-0.94981,-1.0731,0.3211,1\\r\\n1.5904,2.2121,-3.1183,-0.11725,1\\r\\n1.7425,3.6833,-4.0129,-1.7207,1\\r\\n-0.23356,3.2405,-3.0669,-2.7784,1\\r\\n-3.6227,3.9958,-0.35845,-3.9047,1\\r\\n-6.1536,7.9295,0.61663,-3.2646,1\\r\\n-3.9172,2.6652,0.78886,-0.7819,1\\r\\n-2.2214,-0.23798,0.56008,0.05602,1\\r\\n-0.49241,0.89392,-1.6283,-0.56854,1\\r\\n0.26517,2.4066,-2.8416,-0.59958,1\\r\\n-0.10234,1.8189,-2.2169,-0.56725,1\\r\\n-1.6176,1.0926,-0.35502,-0.59958,1\\r\\n-1.8448,1.254,0.27218,-1.0728,1\\r\\n-1.2786,-2.4087,4.5735,0.47627,1\\r\\n-2.902,-7.6563,11.8318,-0.84268,1\\r\\n-4.3773,-5.5167,10.939,-0.4082,1\\r\\n-2.0529,3.8385,-0.79544,-1.2138,1\\r\\n0.18868,0.70148,-0.51182,0.0055892,1\\r\\n-1.7279,-6.841,8.9494,0.68058,1\\r\\n-3.3793,-13.7731,17.9274,-2.0323,1\\r\\n-3.1273,-7.1121,11.3897,-0.083634,1\\r\\n-2.121,-0.05588,1.949,1.353,1\\r\\n-1.7697,3.4329,-1.2144,-2.3789,1\\r\\n-0.0012852,0.13863,-0.19651,0.0081754,1\\r\\n-1.682,-6.8121,7.1398,1.3323,1\\r\\n-3.4917,-12.1736,14.3689,-0.61639,1\\r\\n-3.1158,-8.6289,10.4403,0.97153,1\\r\\n-2.0891,-0.48422,1.704,1.7435,1\\r\\n-1.6936,2.7852,-2.1835,-1.9276,1\\r\\n-1.2846,3.2715,-1.7671,-3.2608,1\\r\\n-0.092194,0.39315,-0.32846,-0.13794,1\\r\\n-1.0292,-6.3879,5.5255,0.79955,1\\r\\n-2.2083,-9.1069,8.9991,-0.28406,1\\r\\n-1.0744,-6.3113,5.355,0.80472,1\\r\\n-0.51003,-0.23591,0.020273,0.76334,1\\r\\n-0.36372,3.0439,-3.4816,-2.7836,1\\r\\n-6.3979,6.4479,1.0836,-6.6176,1\\r\\n-2.2501,3.3129,-0.88369,-2.8974,1\\r\\n-1.1859,-1.2519,2.2635,0.77239,1\\r\\n-1.8076,-8.8131,8.7086,-0.21682,1\\r\\n-3.3863,-12.9889,13.0545,-2.7202,1\\r\\n-1.4106,-7.108,5.6454,0.31335,1\\r\\n-0.21394,-0.68287,0.096532,1.1965,1\\r\\n0.48797,3.5674,-4.3882,-3.8116,1\\r\\n-3.8167,5.1401,-0.65063,-5.4306,1\\r\\n-1.9555,0.20692,1.2473,-0.3707,1\\r\\n-2.1786,-6.4479,6.0344,-0.20777,1\\r\\n-2.3299,-9.9532,8.4756,-1.8733,1\\r\\n0.0031201,-4.0061,1.7956,0.91722,1\\r\\n1.3518,1.0595,-2.3437,0.39998,1\\r\\n1.2309,3.8923,-4.8277,-4.0069,1\\r\\n-5.0301,7.5032,-0.13396,-7.5034,1\\r\\n-3.0799,0.60836,2.7039,-0.23751,1\\r\\n-2.2987,-5.227,5.63,0.91722,1\\r\\n-1.239,-6.541,4.8151,-0.033204,1\\r\\n0.75896,0.29176,-1.6506,0.83834,1\\r\\n1.6799,4.2068,-4.5398,-2.3931,1\\r\\n0.63655,5.2022,-5.2159,-6.1211,1\\r\\n-6.0598,9.2952,-0.43642,-6.3694,1\\r\\n-3.518,2.8763,0.1548,-1.2086,1\\r\\n-2.0336,-1.4092,1.1582,0.36507,1\\r\\n-0.69745,-1.7672,-0.34474,-0.12372,1\\r\\n0.75108,1.9161,-3.1098,-0.20518,1\\r\\n0.84546,3.4826,-3.6307,-1.3961,1\\r\\n-0.55648,3.2136,-3.3085,-2.7965,1\\r\\n-3.6817,3.2239,-0.69347,-3.4004,1\\r\\n-6.7526,8.8172,-0.061983,-3.725,1\\r\\n-4.577,3.4515,0.66719,-0.94742,1\\r\\n-2.9883,0.31245,0.45041,0.068951,1\\r\\n-1.4781,0.14277,-1.1622,-0.48579,1\\r\\n-0.46651,2.3383,-2.9812,-1.0431,1\\r\\n-0.8734,1.6533,-2.1964,-0.78061,1\\r\\n-2.1234,1.1815,-0.55552,-0.81165,1\\r\\n-2.3142,2.0838,-0.46813,-1.6767,1\\r\\n-1.4233,-0.98912,2.3586,0.39481,1\\r\\n-3.0866,-6.6362,10.5405,-0.89182,1\\r\\n-4.7331,-6.1789,11.388,-1.0741,1\\r\\n-2.8829,3.8964,-0.1888,-1.1672,1\\r\\n-0.036127,1.525,-1.4089,-0.76121,1\\r\\n-1.7104,-4.778,6.2109,0.3974,1\\r\\n-3.8203,-13.0551,16.9583,-2.3052,1\\r\\n-3.7181,-8.5089,12.363,-0.95518,1\\r\\n-2.899,-0.60424,2.6045,1.3776,1\\r\\n-0.98193,2.7956,-1.2341,-1.5668,1\\r\\n-0.17296,-1.1816,1.3818,0.7336,1\\r\\n-1.9409,-8.6848,9.155,0.94049,1\\r\\n-3.5713,-12.4922,14.8881,-0.47027,1\\r\\n-2.9915,-6.6258,8.6521,1.8198,1\\r\\n-1.8483,0.31038,0.77344,1.4189,1\\r\\n-2.2677,3.2964,-2.2563,-2.4642,1\\r\\n-0.50816,2.868,-1.8108,-2.2612,1\\r\\n0.14329,-1.0885,1.0039,0.48791,1\\r\\n-0.90784,-7.9026,6.7807,0.34179,1\\r\\n-2.0042,-9.3676,9.3333,-0.10303,1\\r\\n-0.93587,-5.1008,4.5367,1.3866,1\\r\\n-0.40804,0.54214,-0.52725,0.6586,1\\r\\n-0.8172,3.3812,-3.6684,-3.456,1\\r\\n-4.8392,6.6755,-0.24278,-6.5775,1\\r\\n-1.2792,2.1376,-0.47584,-1.3974,1\\r\\n-0.66008,-3.226,3.8058,1.1836,1\\r\\n-1.7713,-10.7665,10.2184,-1.0043,1\\r\\n-3.0061,-12.2377,11.9552,-2.1603,1\\r\\n-1.1022,-5.8395,4.5641,0.68705,1\\r\\n0.11806,0.39108,-0.98223,0.42843,1\\r\\n0.11686,3.735,-4.4379,-4.3741,1\\r\\n-2.7264,3.9213,-0.49212,-3.6371,1\\r\\n-1.2369,-1.6906,2.518,0.51636,1\\r\\n-1.8439,-8.6475,7.6796,-0.66682,1\\r\\n-1.8554,-9.6035,7.7764,-0.97716,1\\r\\n0.16358,-3.3584,1.3749,1.3569,1\\r\\n1.5077,1.9596,-3.0584,-0.12243,1\\r\\n0.67886,4.1199,-4.569,-4.1414,1\\r\\n-3.9934,5.8333,0.54723,-4.9379,1\\r\\n-2.3898,-0.78427,3.0141,0.76205,1\\r\\n-1.7976,-6.7686,6.6753,0.89912,1\\r\\n-0.70867,-5.5602,4.0483,0.903,1\\r\\n1.0194,1.1029,-2.3,0.59395,1\\r\\n1.7875,4.78,-5.1362,-3.2362,1\\r\\n0.27331,4.8773,-4.9194,-5.8198,1\\r\\n-5.1661,8.0433,0.044265,-4.4983,1\\r\\n-2.7028,1.6327,0.83598,-0.091393,1\\r\\n-1.4904,-2.2183,1.6054,0.89394,1\\r\\n-0.014902,-1.0243,-0.94024,0.64955,1\\r\\n0.88992,2.2638,-3.1046,-0.11855,1\\r\\n1.0637,3.6957,-4.1594,-1.9379,1\\r\\n-0.8471,3.1329,-3.0112,-2.9388,1\\r\\n-3.9594,4.0289,-0.35845,-3.8957,1\\r\\n-5.8818,7.6584,0.5558,-2.9155,1\\r\\n-3.7747,2.5162,0.83341,-0.30993,1\\r\\n-2.4198,-0.24418,0.70146,0.41809,1\\r\\n-0.83535,0.80494,-1.6411,-0.19225,1\\r\\n-0.30432,2.6528,-2.7756,-0.65647,1\\r\\n-0.60254,1.7237,-2.1501,-0.77027,1\\r\\n-2.1059,1.1815,-0.53324,-0.82716,1\\r\\n-2.0441,1.2271,0.18564,-1.091,1\\r\\n-1.5621,-2.2121,4.2591,0.27972,1\\r\\n-3.2305,-7.2135,11.6433,-0.94613,1\\r\\n-4.8426,-4.9932,10.4052,-0.53104,1\\r\\n-2.3147,3.6668,-0.6969,-1.2474,1\\r\\n-0.11716,0.60422,-0.38587,-0.059065,1\\r\\n-2.0066,-6.719,9.0162,0.099985,1\\r\\n-3.6961,-13.6779,17.5795,-2.6181,1\\r\\n-3.6012,-6.5389,10.5234,-0.48967,1\\r\\n-2.6286,0.18002,1.7956,0.97282,1\\r\\n-0.82601,2.9611,-1.2864,-1.4647,1\\r\\n0.31803,-0.99326,1.0947,0.88619,1\\r\\n-1.4454,-8.4385,8.8483,0.96894,1\\r\\n-3.1423,-13.0365,15.6773,-0.66165,1\\r\\n-2.5373,-6.959,8.8054,1.5289,1\\r\\n-1.366,0.18416,0.90539,1.5806,1\\r\\n-1.7064,3.3088,-2.2829,-2.1978,1\\r\\n-0.41965,2.9094,-1.7859,-2.2069,1\\r\\n0.37637,-0.82358,0.78543,0.74524,1\\r\\n-0.55355,-7.9233,6.7156,0.74394,1\\r\\n-1.6001,-9.5828,9.4044,0.081882,1\\r\\n-0.37013,-5.554,4.7749,1.547,1\\r\\n0.12126,0.22347,-0.47327,0.97024,1\\r\\n-0.27068,3.2674,-3.5562,-3.0888,1\\r\\n-5.119,6.6486,-0.049987,-6.5206,1\\r\\n-1.3946,2.3134,-0.44499,-1.4905,1\\r\\n-0.69879,-3.3771,4.1211,1.5043,1\\r\\n-1.48,-10.5244,9.9176,-0.5026,1\\r\\n-2.6649,-12.813,12.6689,-1.9082,1\\r\\n-0.62684,-6.301,4.7843,1.106,1\\r\\n0.518,0.25865,-0.84085,0.96118,1\\r\\n0.64376,3.764,-4.4738,-4.0483,1\\r\\n-2.9821,4.1986,-0.5898,-3.9642,1\\r\\n-1.4628,-1.5706,2.4357,0.49826,1\\r\\n-1.7101,-8.7903,7.9735,-0.45475,1\\r\\n-1.5572,-9.8808,8.1088,-1.0806,1\\r\\n0.74428,-3.7723,1.6131,1.5754,1\\r\\n2.0177,1.7982,-2.9581,0.2099,1\\r\\n1.164,3.913,-4.5544,-3.8672,1\\r\\n-4.3667,6.0692,0.57208,-5.4668,1\\r\\n-2.5919,-1.0553,3.8949,0.77757,1\\r\\n-1.8046,-6.8141,6.7019,1.1681,1\\r\\n-0.71868,-5.7154,3.8298,1.0233,1\\r\\n1.4378,0.66837,-2.0267,1.0271,1\\r\\n2.1943,4.5503,-4.976,-2.7254,1\\r\\n0.7376,4.8525,-4.7986,-5.6659,1\\r\\n-5.637,8.1261,0.13081,-5.0142,1\\r\\n-3.0193,1.7775,0.73745,-0.45346,1\\r\\n-1.6706,-2.09,1.584,0.71162,1\\r\\n-0.1269,-1.1505,-0.95138,0.57843,1\\r\\n1.2198,2.0982,-3.1954,0.12843,1\\r\\n1.4501,3.6067,-4.0557,-1.5966,1\\r\\n-0.40857,3.0977,-2.9607,-2.6892,1\\r\\n-3.8952,3.8157,-0.31304,-3.8194,1\\r\\n-6.3679,8.0102,0.4247,-3.2207,1\\r\\n-4.1429,2.7749,0.68261,-0.71984,1\\r\\n-2.6864,-0.097265,0.61663,0.061192,1\\r\\n-1.0555,0.79459,-1.6968,-0.46768,1\\r\\n-0.29858,2.4769,-2.9512,-0.66165,1\\r\\n-0.49948,1.7734,-2.2469,-0.68104,1\\r\\n-1.9881,0.99945,-0.28562,-0.70044,1\\r\\n-1.9389,1.5706,0.045979,-1.122,1\\r\\n-1.4375,-1.8624,4.026,0.55127,1\\r\\n-3.1875,-7.5756,11.8678,-0.57889,1\\r\\n-4.6765,-5.6636,10.969,-0.33449,1\\r\\n-2.0285,3.8468,-0.63435,-1.175,1\\r\\n0.26637,0.73252,-0.67891,0.03533,1\\r\\n-1.7589,-6.4624,8.4773,0.31981,1\\r\\n-3.5985,-13.6593,17.6052,-2.4927,1\\r\\n-3.3582,-7.2404,11.4419,-0.57113,1\\r\\n-2.3629,-0.10554,1.9336,1.1358,1\\r\\n-2.1802,3.3791,-1.2256,-2.6621,1\\r\\n-0.40951,-0.15521,0.060545,-0.088807,1\\r\\n-2.2918,-7.257,7.9597,0.9211,1\\r\\n-4.0214,-12.8006,15.6199,-0.95647,1\\r\\n-3.3884,-8.215,10.3315,0.98187,1\\r\\n-2.0046,-0.49457,1.333,1.6543,1\\r\\n-1.7063,2.7956,-2.378,-2.3491,1\\r\\n-1.6386,3.3584,-1.7302,-3.5646,1\\r\\n-0.41645,0.32487,-0.33617,-0.36036,1\\r\\n-1.5877,-6.6072,5.8022,0.31593,1\\r\\n-2.5961,-9.349,9.7942,-0.28018,1\\r\\n-1.5228,-6.4789,5.7568,0.87325,1\\r\\n-0.53072,-0.097265,-0.21793,1.0426,1\\r\\n-0.49081,2.8452,-3.6436,-3.1004,1\\r\\n-6.5773,6.8017,0.85483,-7.5344,1\\r\\n-2.4621,2.7645,-0.62578,-2.8573,1\\r\\n-1.3995,-1.9162,2.5154,0.59912,1\\r\\n-2.3221,-9.3304,9.233,-0.79871,1\\r\\n-3.73,-12.9723,12.9817,-2.684,1\\r\\n-1.6988,-7.1163,5.7902,0.16723,1\\r\\n-0.26654,-0.64562,-0.42014,0.89136,1\\r\\n0.33325,3.3108,-4.5081,-4.012,1\\r\\n-4.2091,4.7283,-0.49126,-5.2159,1\\r\\n-2.3142,-0.68494,1.9833,-0.44829,1\\r\\n-2.4835,-7.4494,6.8964,-0.64484,1\\r\\n-2.7611,-10.5099,9.0239,-1.9547,1\\r\\n-0.36025,-4.449,2.1067,0.94308,1\\r\\n1.0117,0.9022,-2.3506,0.42714,1\\r\\n0.96708,3.8426,-4.9314,-4.1323,1\\r\\n-5.2049,7.259,0.070827,-7.3004,1\\r\\n-3.3203,-0.02691,2.9618,-0.44958,1\\r\\n-2.565,-5.7899,6.0122,0.046968,1\\r\\n-1.5951,-6.572,4.7689,-0.94354,1\\r\\n0.7049,0.17174,-1.7859,0.36119,1\\r\\n1.7331,3.9544,-4.7412,-2.5017,1\\r\\n0.6818,4.8504,-5.2133,-6.1043,1\\r\\n-6.3364,9.2848,0.014275,-6.7844,1\\r\\n-3.8053,2.4273,0.6809,-1.0871,1\\r\\n-2.1979,-2.1252,1.7151,0.45171,1\\r\\n-0.87874,-2.2121,-0.051701,0.099985,1\\r\\n0.74067,1.7299,-3.1963,-0.1457,1\\r\\n0.98296,3.4226,-3.9692,-1.7116,1\\r\\n-0.3489,3.1929,-3.4054,-3.1832,1\\r\\n-3.8552,3.5219,-0.38415,-3.8608,1\\r\\n-6.9599,8.9931,0.2182,-4.572,1\\r\\n-4.7462,3.1205,1.075,-1.2966,1\\r\\n-3.2051,-0.14279,0.97565,0.045675,1\\r\\n-1.7549,-0.080711,-0.75774,-0.3707,1\\r\\n-0.59587,2.4811,-2.8673,-0.89828,1\\r\\n-0.89542,2.0279,-2.3652,-1.2746,1\\r\\n-2.0754,1.2767,-0.64206,-1.2642,1\\r\\n-3.2778,1.8023,0.1805,-2.3931,1\\r\\n-2.2183,-1.254,2.9986,0.36378,1\\r\\n-3.5895,-6.572,10.5251,-0.16381,1\\r\\n-5.0477,-5.8023,11.244,-0.3901,1\\r\\n-3.5741,3.944,-0.07912,-2.1203,1\\r\\n-0.7351,1.7361,-1.4938,-1.1582,1\\r\\n-2.2617,-4.7428,6.3489,0.11162,1\\r\\n-4.244,-13.0634,17.1116,-2.8017,1\\r\\n-4.0218,-8.304,12.555,-1.5099,1\\r\\n-3.0201,-0.67253,2.7056,0.85774,1\\r\\n-2.4941,3.5447,-1.3721,-2.8483,1\\r\\n-0.83121,0.039307,0.05369,-0.23105,1\\r\\n-2.5665,-6.8824,7.5416,0.70774,1\\r\\n-4.4018,-12.9371,15.6559,-1.6806,1\\r\\n-3.7573,-8.2916,10.3032,0.38059,1\\r\\n-2.4725,-0.40145,1.4855,1.1189,1\\r\\n-1.9725,2.8825,-2.3086,-2.3724,1\\r\\n-2.0149,3.6874,-1.9385,-3.8918,1\\r\\n-0.82053,0.65181,-0.48869,-0.52716,1\\r\\n-1.7886,-6.3486,5.6154,0.42584,1\\r\\n-2.9138,-9.4711,9.7668,-0.60216,1\\r\\n-1.8343,-6.5907,5.6429,0.54998,1\\r\\n-0.8734,-0.033118,-0.20165,0.55774,1\\r\\n-0.70346,2.957,-3.5947,-3.1457,1\\r\\n-6.7387,6.9879,0.67833,-7.5887,1\\r\\n-2.7723,3.2777,-0.9351,-3.1457,1\\r\\n-1.6641,-1.3678,1.997,0.52283,1\\r\\n-2.4349,-9.2497,8.9922,-0.50001,1\\r\\n-3.793,-12.7095,12.7957,-2.825,1\\r\\n-1.9551,-6.9756,5.5383,-0.12889,1\\r\\n-0.69078,-0.50077,-0.35417,0.47498,1\\r\\n0.025013,3.3998,-4.4327,-4.2655,1\\r\\n-4.3967,4.9601,-0.64892,-5.4719,1\\r\\n-2.456,-0.24418,1.4041,-0.45863,1\\r\\n-2.62,-6.8555,6.2169,-0.62285,1\\r\\n-2.9662,-10.3257,8.784,-2.1138,1\\r\\n-0.71494,-4.4448,2.2241,0.49826,1\\r\\n0.6005,0.99945,-2.2126,0.097399,1\\r\\n0.61652,3.8944,-4.7275,-4.3948,1\\r\\n-5.4414,7.2363,0.10938,-7.5642,1\\r\\n-3.5798,0.45937,2.3457,-0.45734,1\\r\\n-2.7769,-5.6967,5.9179,0.37671,1\\r\\n-1.8356,-6.7562,5.0585,-0.55044,1\\r\\n0.30081,0.17381,-1.7542,0.48921,1\\r\\n1.3403,4.1323,-4.7018,-2.5987,1\\r\\n0.26877,4.987,-5.1508,-6.3913,1\\r\\n-6.5235,9.6014,-0.25392,-6.9642,1\\r\\n-4.0679,2.4955,0.79571,-1.1039,1\\r\\n-2.564,-1.7051,1.5026,0.32757,1\\r\\n-1.3414,-1.9162,-0.15538,-0.11984,1\\r\\n0.23874,2.0879,-3.3522,-0.66553,1\\r\\n0.6212,3.6771,-4.0771,-2.0711,1\\r\\n-0.77848,3.4019,-3.4859,-3.5569,1\\r\\n-4.1244,3.7909,-0.6532,-4.1802,1\\r\\n-7.0421,9.2,0.25933,-4.6832,1\\r\\n-4.9462,3.5716,0.82742,-1.4957,1\\r\\n-3.5359,0.30417,0.6569,-0.2957,1\\r\\n-2.0662,0.16967,-1.0054,-0.82975,1\\r\\n-0.88728,2.808,-3.1432,-1.2035,1\\r\\n-1.0941,2.3072,-2.5237,-1.4453,1\\r\\n-2.4458,1.6285,-0.88541,-1.4802,1\\r\\n-3.551,1.8955,0.1865,-2.4409,1\\r\\n-2.2811,-0.85669,2.7185,0.044382,1\\r\\n-3.6053,-5.974,10.0916,-0.82846,1\\r\\n-5.0676,-5.1877,10.4266,-0.86725,1\\r\\n-3.9204,4.0723,-0.23678,-2.1151,1\\r\\n-1.1306,1.8458,-1.3575,-1.3806,1\\r\\n-2.4561,-4.5566,6.4534,-0.056479,1\\r\\n-4.4775,-13.0303,17.0834,-3.0345,1\\r\\n-4.1958,-8.1819,12.1291,-1.6017,1\\r\\n-3.38,-0.7077,2.5325,0.71808,1\\r\\n-2.4365,3.6026,-1.4166,-2.8948,1\\r\\n-0.77688,0.13036,-0.031137,-0.35389,1\\r\\n-2.7083,-6.8266,7.5339,0.59007,1\\r\\n-4.5531,-12.5854,15.4417,-1.4983,1\\r\\n-3.8894,-7.8322,9.8208,0.47498,1\\r\\n-2.5084,-0.22763,1.488,1.2069,1\\r\\n-2.1652,3.0211,-2.4132,-2.4241,1\\r\\n-1.8974,3.5074,-1.7842,-3.8491,1\\r\\n-0.62043,0.5587,-0.38587,-0.66423,1\\r\\n-1.8387,-6.301,5.6506,0.19567,1\\r\\n-3,-9.1566,9.5766,-0.73018,1\\r\\n-1.9116,-6.1603,5.606,0.48533,1\\r\\n-1.005,0.084831,-0.2462,0.45688,1\\r\\n-0.87834,3.257,-3.6778,-3.2944,1\\r\\n-6.651,6.7934,0.68604,-7.5887,1\\r\\n-2.5463,3.1101,-0.83228,-3.0358,1\\r\\n-1.4377,-1.432,2.1144,0.42067,1\\r\\n-2.4554,-9.0407,8.862,-0.86983,1\\r\\n-3.9411,-12.8792,13.0597,-3.3125,1\\r\\n-2.1241,-6.8969,5.5992,-0.47156,1\\r\\n-0.74324,-0.32902,-0.42785,0.23317,1\\r\\n-0.071503,3.7412,-4.5415,-4.2526,1\\r\\n-4.2333,4.9166,-0.49212,-5.3207,1\\r\\n-2.3675,-0.43663,1.692,-0.43018,1\\r\\n-2.5526,-7.3625,6.9255,-0.66811,1\\r\\n-3.0986,-10.4602,8.9717,-2.3427,1\\r\\n-0.89809,-4.4862,2.2009,0.50731,1\\r\\n0.56232,1.0015,-2.2726,-0.0060486,1\\r\\n0.53936,3.8944,-4.8166,-4.3418,1\\r\\n-5.3012,7.3915,0.029699,-7.3987,1\\r\\n-3.3553,0.35591,2.6473,-0.37846,1\\r\\n-2.7908,-5.7133,5.953,0.45946,1\\r\\n-1.9983,-6.6072,4.8254,-0.41984,1\\r\\n0.15423,0.11794,-1.6823,0.59524,1\\r\\n1.208,4.0744,-4.7635,-2.6129,1\\r\\n0.2952,4.8856,-5.149,-6.2323,1\\r\\n-6.4247,9.5311,0.022844,-6.8517,1\\r\\n-3.9933,2.6218,0.62863,-1.1595,1\\r\\n-2.659,-1.6058,1.3647,0.16464,1\\r\\n-1.4094,-2.1252,-0.10397,-0.19225,1\\r\\n0.11032,1.9741,-3.3668,-0.65259,1\\r\\n0.52374,3.644,-4.0746,-1.9909,1\\r\\n-0.76794,3.4598,-3.4405,-3.4276,1\\r\\n-3.9698,3.6812,-0.60008,-4.0133,1\\r\\n-7.0364,9.2931,0.16594,-4.5396,1\\r\\n-4.9447,3.3005,1.063,-1.444,1\\r\\n-3.5933,0.22968,0.7126,-0.3332,1\\r\\n-2.1674,0.12415,-1.0465,-0.86208,1\\r\\n-0.9607,2.6963,-3.1226,-1.3121,1\\r\\n-1.0802,2.1996,-2.5862,-1.2759,1\\r\\n-2.3277,1.4381,-0.82114,-1.2862,1\\r\\n-3.7244,1.9037,-0.035421,-2.5095,1\\r\\n-2.5724,-0.95602,2.7073,-0.16639,1\\r\\n-3.9297,-6.0816,10.0958,-1.0147,1\\r\\n-5.2943,-5.1463,10.3332,-1.1181,1\\r\\n-3.8953,4.0392,-0.3019,-2.1836,1\\r\\n-1.2244,1.7485,-1.4801,-1.4181,1\\r\\n-2.6406,-4.4159,5.983,-0.13924,1\\r\\n-4.6338,-12.7509,16.7166,-3.2168,1\\r\\n-4.2887,-7.8633,11.8387,-1.8978,1\\r\\n-3.3458,-0.50491,2.6328,0.53705,1\\r\\n-1.1188,3.3357,-1.3455,-1.9573,1\\r\\n0.55939,-0.3104,0.18307,0.44653,1\\r\\n-1.5078,-7.3191,7.8981,1.2289,1\\r\\n-3.506,-12.5667,15.1606,-0.75216,1\\r\\n-2.9498,-8.273,10.2646,1.1629,1\\r\\n-1.6029,-0.38903,1.62,1.9103,1\\r\\n-1.2667,2.8183,-2.426,-1.8862,1\\r\\n-0.49281,3.0605,-1.8356,-2.834,1\\r\\n0.66365,-0.045533,-0.18794,0.23447,1\\r\\n-0.72068,-6.7583,5.8408,0.62369,1\\r\\n-1.9966,-9.5001,9.682,-0.12889,1\\r\\n-0.97325,-6.4168,5.6026,1.0323,1\\r\\n-0.025314,-0.17383,-0.11339,1.2198,1\\r\\n0.062525,2.9301,-3.5467,-2.6737,1\\r\\n-5.525,6.3258,0.89768,-6.6241,1\\r\\n-1.2943,2.6735,-0.84085,-2.0323,1\\r\\n-0.24037,-1.7837,2.135,1.2418,1\\r\\n-1.3968,-9.6698,9.4652,-0.34872,1\\r\\n-2.9672,-13.2869,13.4727,-2.6271,1\\r\\n-1.1005,-7.2508,6.0139,0.36895,1\\r\\n0.22432,-0.52147,-0.40386,1.2017,1\\r\\n0.90407,3.3708,-4.4987,-3.6965,1\\r\\n-2.8619,4.5193,-0.58123,-4.2629,1\\r\\n-1.0833,-0.31247,1.2815,0.41291,1\\r\\n-1.5681,-7.2446,6.5537,-0.1276,1\\r\\n-2.0545,-10.8679,9.4926,-1.4116,1\\r\\n0.2346,-4.5152,2.1195,1.4448,1\\r\\n1.581,0.86909,-2.3138,0.82412,1\\r\\n1.5514,3.8013,-4.9143,-3.7483,1\\r\\n-4.1479,7.1225,-0.083404,-6.4172,1\\r\\n-2.2625,-0.099335,2.8127,0.48662,1\\r\\n-1.7479,-5.823,5.8699,1.212,1\\r\\n-0.95923,-6.7128,4.9857,0.32886,1\\r\\n1.3451,0.23589,-1.8785,1.3258,1\\r\\n2.2279,4.0951,-4.8037,-2.1112,1\\r\\n1.2572,4.8731,-5.2861,-5.8741,1\\r\\n-5.3857,9.1214,-0.41929,-5.9181,1\\r\\n-2.9786,2.3445,0.52667,-0.40173,1\\r\\n-1.5851,-2.1562,1.7082,0.9017,1\\r\\n-0.21888,-2.2038,-0.0954,0.56421,1\\r\\n1.3183,1.9017,-3.3111,0.065071,1\\r\\n1.4896,3.4288,-4.0309,-1.4259,1\\r\\n0.11592,3.2219,-3.4302,-2.8457,1\\r\\n-3.3924,3.3564,-0.72004,-3.5233,1\\r\\n-6.1632,8.7096,-0.21621,-3.6345,1\\r\\n-4.0786,2.9239,0.87026,-0.65389,1\\r\\n-2.5899,-0.3911,0.93452,0.42972,1\\r\\n-1.0116,-0.19038,-0.90597,0.003003,1\\r\\n0.066129,2.4914,-2.9401,-0.62156,1\\r\\n-0.24745,1.9368,-2.4697,-0.80518,1\\r\\n-1.5732,1.0636,-0.71232,-0.8388,1\\r\\n-2.1668,1.5933,0.045122,-1.678,1\\r\\n-1.1667,-1.4237,2.9241,0.66119,1\\r\\n-2.8391,-6.63,10.4849,-0.42113,1\\r\\n-4.5046,-5.8126,10.8867,-0.52846,1\\r\\n-2.41,3.7433,-0.40215,-1.2953,1\\r\\n0.40614,1.3492,-1.4501,-0.55949,1\\r\\n-1.3887,-4.8773,6.4774,0.34179,1\\r\\n-3.7503,-13.4586,17.5932,-2.7771,1\\r\\n-3.5637,-8.3827,12.393,-1.2823,1\\r\\n-2.5419,-0.65804,2.6842,1.1952,1'}"
            ]
          },
          "metadata": {},
          "execution_count": 13
        }
      ]
    },
    {
      "cell_type": "code",
      "metadata": {
        "colab": {
          "base_uri": "https://localhost:8080/"
        },
        "id": "1OZ9tGNStVIl",
        "outputId": "52a6f214-f562-40b0-ecb0-c2df58df07b1"
      },
      "source": [
        "# doing the minimum necessary imports\n",
        "# more modules would be imported as and when needed\n",
        "\n",
        "import pandas as pd  \n",
        "import numpy as np  \n",
        "import matplotlib.pyplot as plt  \n",
        "%matplotlib inline\n",
        "\n",
        "# reading data from CSV file. \n",
        "# reading bank currency note data into pandas dataframe.\n",
        "bankdata = pd.read_csv(\"bill_authentication.csv\")  \n",
        "\n",
        "# Exploratory Data Analysis\n",
        "print(bankdata.shape)  \n",
        "print(\"------------\")\n",
        "print(bankdata.head()) "
      ],
      "execution_count": 24,
      "outputs": [
        {
          "output_type": "stream",
          "name": "stdout",
          "text": [
            "(1372, 5)\n",
            "------------\n",
            "   Variance  Skewness  Curtosis  Entropy  Class\n",
            "0   3.62160    8.6661   -2.8073 -0.44699      0\n",
            "1   4.54590    8.1674   -2.4586 -1.46210      0\n",
            "2   3.86600   -2.6383    1.9242  0.10645      0\n",
            "3   3.45660    9.5228   -4.0112 -3.59440      0\n",
            "4   0.32924   -4.4552    4.5718 -0.98880      0\n"
          ]
        }
      ]
    },
    {
      "cell_type": "code",
      "metadata": {
        "colab": {
          "base_uri": "https://localhost:8080/"
        },
        "id": "8N_dv-xZtVIt",
        "outputId": "b395da13-ad0f-49e1-9436-ffcdc590933a"
      },
      "source": [
        "# Data Preprocessing\n",
        "# Data preprocessing involves \n",
        "# (1) Dividing the data into attributes and labels and \n",
        "# (2) dividing the data into training and testing sets.\n",
        "\n",
        "# To divide the data into attributes and labels, do :\n",
        "X = bankdata.drop('Class', axis=1)  \n",
        "y = bankdata['Class']  \n",
        "\n",
        "# the final preprocessing step is to divide data into training and test sets\n",
        "from sklearn.model_selection import train_test_split  \n",
        "X_train, X_test, y_train, y_test = train_test_split(X, y, \n",
        "                                                    test_size = 0.20, \n",
        "                                                    random_state=0)\n",
        "\n",
        "\n",
        "# Training the Algorithm.\n",
        "from sklearn.ensemble import RandomForestClassifier\n",
        "classifier = RandomForestClassifier(n_estimators=20, random_state=0)  \n",
        "classifier.fit(X_train, y_train)  \n",
        "y_pred = classifier.predict(X_test)\n",
        "\n",
        "# Evaluating the Algorithm\n",
        "from sklearn.metrics import classification_report, confusion_matrix, accuracy_score\n",
        "print(confusion_matrix(y_test,y_pred)) \n",
        "print(classification_report(y_test,y_pred))  \n",
        "print(accuracy_score(y_test, y_pred))"
      ],
      "execution_count": 29,
      "outputs": [
        {
          "output_type": "stream",
          "name": "stdout",
          "text": [
            "[[155   2]\n",
            " [  1 117]]\n",
            "              precision    recall  f1-score   support\n",
            "\n",
            "           0       0.99      0.99      0.99       157\n",
            "           1       0.98      0.99      0.99       118\n",
            "\n",
            "    accuracy                           0.99       275\n",
            "   macro avg       0.99      0.99      0.99       275\n",
            "weighted avg       0.99      0.99      0.99       275\n",
            "\n",
            "0.9890909090909091\n"
          ]
        }
      ]
    },
    {
      "cell_type": "code",
      "metadata": {
        "colab": {
          "base_uri": "https://localhost:8080/"
        },
        "id": "CdeWK07wwstq",
        "outputId": "15fe4280-b186-46ad-9388-fd229626eafb"
      },
      "source": [
        "# Training the Algorithm.\n",
        "from sklearn.ensemble import RandomForestClassifier\n",
        "classifier = RandomForestClassifier(n_estimators=10, random_state=0)  \n",
        "classifier.fit(X_train, y_train)  \n",
        "y_pred = classifier.predict(X_test)\n",
        "\n",
        "# Evaluating the Algorithm\n",
        "from sklearn.metrics import classification_report, confusion_matrix, accuracy_score\n",
        "print(confusion_matrix(y_test,y_pred)) \n",
        "print(classification_report(y_test,y_pred))  \n",
        "print(accuracy_score(y_test, y_pred))"
      ],
      "execution_count": 30,
      "outputs": [
        {
          "output_type": "stream",
          "name": "stdout",
          "text": [
            "[[155   2]\n",
            " [  1 117]]\n",
            "              precision    recall  f1-score   support\n",
            "\n",
            "           0       0.99      0.99      0.99       157\n",
            "           1       0.98      0.99      0.99       118\n",
            "\n",
            "    accuracy                           0.99       275\n",
            "   macro avg       0.99      0.99      0.99       275\n",
            "weighted avg       0.99      0.99      0.99       275\n",
            "\n",
            "0.9890909090909091\n"
          ]
        }
      ]
    },
    {
      "cell_type": "code",
      "metadata": {
        "colab": {
          "base_uri": "https://localhost:8080/"
        },
        "id": "CbweqTHVws9J",
        "outputId": "5697826f-1363-426b-acb4-cb9e47c02bb7"
      },
      "source": [
        "# Training the Algorithm.\n",
        "from sklearn.ensemble import RandomForestClassifier\n",
        "classifier = RandomForestClassifier(n_estimators=50, random_state=0)  \n",
        "classifier.fit(X_train, y_train)  \n",
        "y_pred = classifier.predict(X_test)\n",
        "\n",
        "# Evaluating the Algorithm\n",
        "from sklearn.metrics import classification_report, confusion_matrix, accuracy_score\n",
        "print(confusion_matrix(y_test,y_pred)) \n",
        "print(classification_report(y_test,y_pred))  \n",
        "print(accuracy_score(y_test, y_pred))"
      ],
      "execution_count": 31,
      "outputs": [
        {
          "output_type": "stream",
          "name": "stdout",
          "text": [
            "[[155   2]\n",
            " [  1 117]]\n",
            "              precision    recall  f1-score   support\n",
            "\n",
            "           0       0.99      0.99      0.99       157\n",
            "           1       0.98      0.99      0.99       118\n",
            "\n",
            "    accuracy                           0.99       275\n",
            "   macro avg       0.99      0.99      0.99       275\n",
            "weighted avg       0.99      0.99      0.99       275\n",
            "\n",
            "0.9890909090909091\n"
          ]
        }
      ]
    },
    {
      "cell_type": "code",
      "metadata": {
        "colab": {
          "base_uri": "https://localhost:8080/"
        },
        "id": "wpiqQPlNxTam",
        "outputId": "152eab7b-62c8-4569-9086-69e3d57ffbde"
      },
      "source": [
        "# Training the Algorithm.\n",
        "from sklearn.ensemble import RandomForestClassifier\n",
        "classifier = RandomForestClassifier(n_estimators=30, random_state=0)  \n",
        "classifier.fit(X_train, y_train)  \n",
        "y_pred = classifier.predict(X_test)\n",
        "\n",
        "# Evaluating the Algorithm\n",
        "from sklearn.metrics import classification_report, confusion_matrix, accuracy_score\n",
        "print(confusion_matrix(y_test,y_pred)) \n",
        "print(classification_report(y_test,y_pred))  \n",
        "print(accuracy_score(y_test, y_pred))"
      ],
      "execution_count": 37,
      "outputs": [
        {
          "output_type": "stream",
          "name": "stdout",
          "text": [
            "[[155   2]\n",
            " [  1 117]]\n",
            "              precision    recall  f1-score   support\n",
            "\n",
            "           0       0.99      0.99      0.99       157\n",
            "           1       0.98      0.99      0.99       118\n",
            "\n",
            "    accuracy                           0.99       275\n",
            "   macro avg       0.99      0.99      0.99       275\n",
            "weighted avg       0.99      0.99      0.99       275\n",
            "\n",
            "0.9890909090909091\n"
          ]
        }
      ]
    },
    {
      "cell_type": "markdown",
      "metadata": {
        "id": "nrrSASHZtVIy"
      },
      "source": [
        "<font color='green'><b>Analysis</b></font> : The accuracy achieved for by our random forest classifier with 20 trees is 99% ( which is great !!). \n",
        "\n",
        "<font color='red'>The LEARNER's are expected to try n_estimators values of 10 and 50. </font> \n",
        "\n",
        "<b>Do you observe any difference ?</b> <br>\n",
        "<font color='green'>If yes then please share on the group chat. This would help your peers in learning better. </font>"
      ]
    },
    {
      "cell_type": "markdown",
      "metadata": {
        "id": "sXg7jsYltVIz"
      },
      "source": [
        "Q> <font color='red'>How do I get the best value of the estimators ? </font>\n",
        "**[remember : its not always best to have higher no. of estimators?**] <br>[<i><font color='green'> Becoz higher no. of estimators means more trees , which means more time.</font></i> ] <br>"
      ]
    },
    {
      "cell_type": "code",
      "metadata": {
        "id": "rf8_1IfxtVI1",
        "scrolled": true,
        "colab": {
          "base_uri": "https://localhost:8080/",
          "height": 405
        },
        "outputId": "90d1827f-5212-4bda-a44e-92cd8c269243"
      },
      "source": [
        "# follow hints to answer above Qn. of finding the best value of estimators.\n",
        "# loop through values from 10 to 200, step by 10. \n",
        "# like -> for n_estimator in range(10, 201, 10):\n",
        "# use n_estimator as variable in RandomForestClassifier \n",
        "# or  RandomForestRegressor something like this :\n",
        "\n",
        "error = []   # declaring a list to hold performance values\n",
        "# Calculating error for K values between 10 and 200, \n",
        "# stepping by 10 units each time\n",
        "for i in range(10, 201, 10):  \n",
        "    classifier = RandomForestClassifier(n_estimators = i,random_state=100)\n",
        "    classifier.fit(X_train, y_train)\n",
        "    pred_i = classifier.predict(X_test)\n",
        "    error.append(np.mean(pred_i != y_test))   \n",
        "    # see below expln for np.mean()\n",
        "\n",
        "#-- here != compares 2 ndarray objects \n",
        "#-- return value is array of true/false i.e 0/1 values, \n",
        "#-- of which we are finding the mean values.\n",
        "    \n",
        "#-- The above script executes a loop from 10 to 200, \n",
        "#   in steps of 10 -> 10, 20, 30,..... upto 200 \n",
        "#-- In each iteration the mean error is calculated \n",
        "#-- and the result is appended to the error list.\n",
        "\n",
        "#-- Now please plot the error values vs. n_estimator\n",
        "plt.figure(figsize=(12, 6))  \n",
        "plt.plot(range(10, 201, 10), error, color='red', \n",
        "         linestyle='dashed', marker='o', markerfacecolor='blue', \n",
        "         markersize=10)\n",
        "plt.xticks(np.arange(10, 201, step=10))\n",
        "plt.title('Error Rate n_estimator Value')  \n",
        "plt.xlabel('n_estimator Value')  \n",
        "plt.ylabel('Mean Error');    "
      ],
      "execution_count": 43,
      "outputs": [
        {
          "output_type": "display_data",
          "data": {
            "image/png": "[encoded data removed]",
            "text/plain": [
              "<Figure size 864x432 with 1 Axes>"
            ]
          },
          "metadata": {
            "needs_background": "light"
          }
        }
      ]
    }
  ]
}